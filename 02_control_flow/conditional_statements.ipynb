{
 "cells": [
  {
   "cell_type": "markdown",
   "id": "70b252c1",
   "metadata": {},
   "source": [
    "<h4 style=\"color:green\">Python Conditional Statements</h4>"
   ]
  },
  {
   "cell_type": "markdown",
   "id": "582f8b45",
   "metadata": {},
   "source": [
    "📝 What are Conditional Statements?\n",
    "\n",
    "Conditional statements allow your program to make decisions and execute different code blocks based on conditions"
   ]
  },
  {
   "cell_type": "code",
   "execution_count": null,
   "id": "45861f17",
   "metadata": {},
   "outputs": [],
   "source": [
    "# Basic concept\n",
    "if condition:\n",
    "    # do something\n",
    "else:\n",
    "    # do something else"
   ]
  },
  {
   "cell_type": "markdown",
   "id": "a18eef7b",
   "metadata": {},
   "source": [
    "🎯 if Statement\n",
    "\n",
    "Basic if Statement"
   ]
  },
  {
   "cell_type": "code",
   "execution_count": null,
   "id": "6bee8eff",
   "metadata": {},
   "outputs": [],
   "source": [
    "# Simple condition\n",
    "age = 18\n",
    "\n",
    "if age >= 18:\n",
    "    print(\"You are an adult!\")\n",
    "\n",
    "# Output: You are an adult!"
   ]
  },
  {
   "cell_type": "markdown",
   "id": "7208b7d3",
   "metadata": {},
   "source": [
    "Multiple Conditions"
   ]
  },
  {
   "cell_type": "code",
   "execution_count": null,
   "id": "d57cef70",
   "metadata": {},
   "outputs": [],
   "source": [
    "# Checking multiple conditions\n",
    "score = 85\n",
    "attendance = 80\n",
    "\n",
    "if score >= 50 and attendance >= 75:\n",
    "    print(\"You passed the course!\")"
   ]
  },
  {
   "cell_type": "markdown",
   "id": "df10a5c1",
   "metadata": {},
   "source": [
    "🔄 if-else Statement\n",
    "\n",
    "Basic if-else"
   ]
  },
  {
   "cell_type": "code",
   "execution_count": null,
   "id": "9b332618",
   "metadata": {},
   "outputs": [],
   "source": [
    "# Either-or decision\n",
    "temperature = 25\n",
    "\n",
    "if temperature > 30:\n",
    "    print(\"It's hot outside!\")\n",
    "else:\n",
    "    print(\"It's cool outside!\")\n",
    "\n",
    "# Output: It's cool outside!"
   ]
  },
  {
   "cell_type": "markdown",
   "id": "754d14c3",
   "metadata": {},
   "source": [
    "Real-world Example"
   ]
  },
  {
   "cell_type": "code",
   "execution_count": null,
   "id": "cff8d0e5",
   "metadata": {},
   "outputs": [],
   "source": [
    "# Age verification for driving\n",
    "age = 16\n",
    "has_license = True\n",
    "\n",
    "if age >= 18 and has_license:\n",
    "    print(\"You can drive legally!\")\n",
    "else:\n",
    "    print(\"You cannot drive yet!\")"
   ]
  },
  {
   "cell_type": "markdown",
   "id": "1e7f32c9",
   "metadata": {},
   "source": [
    "🔀 if-elif-else Statement\n",
    "\n",
    "Multiple Conditions"
   ]
  },
  {
   "cell_type": "code",
   "execution_count": null,
   "id": "8052ccd3",
   "metadata": {},
   "outputs": [],
   "source": [
    "# Grade evaluation system\n",
    "score = 85\n",
    "\n",
    "if score >= 90:\n",
    "    print(\"Grade: A\")\n",
    "elif score >= 80:\n",
    "    print(\"Grade: B\")\n",
    "elif score >= 70:\n",
    "    print(\"Grade: C\")\n",
    "elif score >= 60:\n",
    "    print(\"Grade: D\")\n",
    "else:\n",
    "    print(\"Grade: F\")\n",
    "\n",
    "# Output: Grade: B"
   ]
  },
  {
   "cell_type": "markdown",
   "id": "d7edbdbd",
   "metadata": {},
   "source": [
    "Temperature Classifier"
   ]
  },
  {
   "cell_type": "code",
   "execution_count": null,
   "id": "4d11e424",
   "metadata": {},
   "outputs": [],
   "source": [
    "temperature = 22\n",
    "\n",
    "if temperature > 30:\n",
    "    print(\"Hot weather\")\n",
    "elif temperature > 20:\n",
    "    print(\"Pleasant weather\")\n",
    "elif temperature > 10:\n",
    "    print(\"Cool weather\")\n",
    "else:\n",
    "    print(\"Cold weather\")\n",
    "\n",
    "# Output: Pleasant weather"
   ]
  },
  {
   "cell_type": "markdown",
   "id": "74ac0ace",
   "metadata": {},
   "source": [
    "🧠 Nested Conditional Statements\n",
    "\n",
    "Nested if-else"
   ]
  },
  {
   "cell_type": "code",
   "execution_count": null,
   "id": "d19f9fee",
   "metadata": {},
   "outputs": [],
   "source": [
    "# Complex decision making\n",
    "age = 25\n",
    "has_license = True\n",
    "has_car = False\n",
    "\n",
    "if age >= 18:\n",
    "    if has_license:\n",
    "        if has_car:\n",
    "            print(\"You can drive your car!\")\n",
    "        else:\n",
    "            print(\"You can drive but need a car!\")\n",
    "    else:\n",
    "        print(\"You need a driving license!\")\n",
    "else:\n",
    "    print(\"You are too young to drive!\")"
   ]
  },
  {
   "cell_type": "markdown",
   "id": "264db245",
   "metadata": {},
   "source": [
    "💡 Practical Examples\n",
    "\n",
    "1. Login System"
   ]
  },
  {
   "cell_type": "code",
   "execution_count": null,
   "id": "177fb701",
   "metadata": {},
   "outputs": [],
   "source": [
    "# Simple authentication system\n",
    "username = input(\"Enter username: \")\n",
    "password = input(\"Enter password: \")\n",
    "\n",
    "correct_username = \"admin\"\n",
    "correct_password = \"12345\"\n",
    "\n",
    "if username == correct_username and password == correct_password:\n",
    "    print(\"Login successful! ✅\")\n",
    "else:\n",
    "    print(\"Invalid credentials! ❌\")"
   ]
  },
  {
   "cell_type": "markdown",
   "id": "5b2c8e8c",
   "metadata": {},
   "source": [
    "2. Number Classifier"
   ]
  },
  {
   "cell_type": "code",
   "execution_count": null,
   "id": "8cb05e47",
   "metadata": {},
   "outputs": [],
   "source": [
    "# Classify numbers\n",
    "number = float(input(\"Enter a number: \"))\n",
    "\n",
    "if number > 0:\n",
    "    print(\"Positive number\")\n",
    "    if number % 2 == 0:\n",
    "        print(\"Even number\")\n",
    "    else:\n",
    "        print(\"Odd number\")\n",
    "elif number < 0:\n",
    "    print(\"Negative number\")\n",
    "else:\n",
    "    print(\"The number is zero\")"
   ]
  },
  {
   "cell_type": "markdown",
   "id": "934ea14a",
   "metadata": {},
   "source": [
    "3. Shopping Discount Calculator"
   ]
  },
  {
   "cell_type": "code",
   "execution_count": null,
   "id": "014f7d25",
   "metadata": {},
   "outputs": [],
   "source": [
    "# Calculate discounts based on purchase amount\n",
    "purchase_amount = float(input(\"Enter purchase amount: $\"))\n",
    "\n",
    "if purchase_amount >= 200:\n",
    "    discount = 0.20\n",
    "    print(\"20% discount applied!\")\n",
    "elif purchase_amount >= 100:\n",
    "    discount = 0.10\n",
    "    print(\"10% discount applied!\")\n",
    "elif purchase_amount >= 50:\n",
    "    discount = 0.05\n",
    "    print(\"5% discount applied!\")\n",
    "else:\n",
    "    discount = 0\n",
    "    print(\"No discount applied!\")\n",
    "\n",
    "final_amount = purchase_amount * (1 - discount)\n",
    "print(f\"Final amount to pay: ${final_amount:.2f}\")"
   ]
  },
  {
   "cell_type": "markdown",
   "id": "de5e2228",
   "metadata": {},
   "source": [
    "4. BMI Calculator"
   ]
  },
  {
   "cell_type": "code",
   "execution_count": null,
   "id": "8db4c56e",
   "metadata": {},
   "outputs": [],
   "source": [
    "# Body Mass Index calculator\n",
    "weight = float(input(\"Enter your weight in kg: \"))\n",
    "height = float(input(\"Enter your height in meters: \"))\n",
    "\n",
    "bmi = weight / (height ** 2)\n",
    "\n",
    "print(f\"Your BMI is: {bmi:.1f}\")\n",
    "\n",
    "if bmi < 18.5:\n",
    "    category = \"Underweight\"\n",
    "elif bmi < 25:\n",
    "    category = \"Normal weight\"\n",
    "elif bmi < 30:\n",
    "    category = \"Overweight\"\n",
    "else:\n",
    "    category = \"Obese\"\n",
    "\n",
    "print(f\"Category: {category}\")"
   ]
  },
  {
   "cell_type": "markdown",
   "id": "7ac83845",
   "metadata": {},
   "source": [
    "🔧 Comparison Operators in Conditions\n",
    "\n",
    "All Comparison Types"
   ]
  },
  {
   "cell_type": "code",
   "execution_count": null,
   "id": "f6658908",
   "metadata": {},
   "outputs": [],
   "source": [
    "a = 10\n",
    "b = 5\n",
    "\n",
    "# Equal to\n",
    "if a == b:\n",
    "    print(\"a equals b\")\n",
    "\n",
    "# Not equal to\n",
    "if a != b:\n",
    "    print(\"a does not equal b\")  # This will execute\n",
    "\n",
    "# Greater than\n",
    "if a > b:\n",
    "    print(\"a is greater than b\")  # This will execute\n",
    "\n",
    "# Less than\n",
    "if a < b:\n",
    "    print(\"a is less than b\")\n",
    "\n",
    "# Greater than or equal to\n",
    "if a >= b:\n",
    "    print(\"a is greater than or equal to b\")  # This will execute\n",
    "\n",
    "# Less than or equal to\n",
    "if a <= b:\n",
    "    print(\"a is less than or equal to b\")"
   ]
  },
  {
   "cell_type": "markdown",
   "id": "704aa11a",
   "metadata": {},
   "source": [
    "🎪 Logical Operators in Conditions\n",
    "\n",
    "AND Operator"
   ]
  },
  {
   "cell_type": "code",
   "execution_count": null,
   "id": "b5e6bc6f",
   "metadata": {},
   "outputs": [],
   "source": [
    "# Both conditions must be True\n",
    "age = 25\n",
    "has_license = True\n",
    "\n",
    "if age >= 18 and has_license:\n",
    "    print(\"You can drive!\")  # This will execute\n",
    "else:\n",
    "    print(\"You cannot drive!\")"
   ]
  },
  {
   "cell_type": "markdown",
   "id": "998e6554",
   "metadata": {},
   "source": [
    "OR Operator"
   ]
  },
  {
   "cell_type": "code",
   "execution_count": null,
   "id": "0841f5c1",
   "metadata": {},
   "outputs": [],
   "source": [
    "# At least one condition must be True\n",
    "is_weekend = True\n",
    "is_holiday = False\n",
    "\n",
    "if is_weekend or is_holiday:\n",
    "    print(\"You can rest!\")  # This will execute\n",
    "else:\n",
    "    print(\"Go to work!\")"
   ]
  },
  {
   "cell_type": "markdown",
   "id": "c3ebc5e4",
   "metadata": {},
   "source": [
    "NOT Operator"
   ]
  },
  {
   "cell_type": "code",
   "execution_count": null,
   "id": "5fedc113",
   "metadata": {},
   "outputs": [],
   "source": [
    "# Reverses the condition\n",
    "is_raining = False\n",
    "\n",
    "if not is_raining:\n",
    "    print(\"You can go outside!\")  # This will execute\n",
    "else:\n",
    "    print(\"Stay inside!\")"
   ]
  },
  {
   "cell_type": "markdown",
   "id": "2665e45a",
   "metadata": {},
   "source": [
    "🎨 Advanced Examples\n",
    "\n",
    "1. Leap Year Checker"
   ]
  },
  {
   "cell_type": "code",
   "execution_count": null,
   "id": "71aadcfb",
   "metadata": {},
   "outputs": [],
   "source": [
    "# Check if a year is leap year\n",
    "year = int(input(\"Enter a year: \"))\n",
    "\n",
    "if (year % 4 == 0 and year % 100 != 0) or (year % 400 == 0):\n",
    "    print(f\"{year} is a leap year!\")\n",
    "else:\n",
    "    print(f\"{year} is not a leap year.\")"
   ]
  },
  {
   "cell_type": "markdown",
   "id": "66ae54b3",
   "metadata": {},
   "source": [
    "2. Simple Calculator with Menu"
   ]
  },
  {
   "cell_type": "code",
   "execution_count": null,
   "id": "79867373",
   "metadata": {},
   "outputs": [],
   "source": [
    "print(\"=== Simple Calculator ===\")\n",
    "print(\"1. Addition\")\n",
    "print(\"2. Subtraction\")\n",
    "print(\"3. Multiplication\")\n",
    "print(\"4. Division\")\n",
    "\n",
    "choice = input(\"Enter your choice (1-4): \")\n",
    "num1 = float(input(\"Enter first number: \"))\n",
    "num2 = float(input(\"Enter second number: \"))\n",
    "\n",
    "if choice == '1':\n",
    "    result = num1 + num2\n",
    "    print(f\"Result: {num1} + {num2} = {result}\")\n",
    "elif choice == '2':\n",
    "    result = num1 - num2\n",
    "    print(f\"Result: {num1} - {num2} = {result}\")\n",
    "elif choice == '3':\n",
    "    result = num1 * num2\n",
    "    print(f\"Result: {num1} × {num2} = {result}\")\n",
    "elif choice == '4':\n",
    "    if num2 != 0:\n",
    "        result = num1 / num2\n",
    "        print(f\"Result: {num1} ÷ {num2} = {result}\")\n",
    "    else:\n",
    "        print(\"Error: Division by zero is not allowed!\")\n",
    "else:\n",
    "    print(\"Invalid choice!\")"
   ]
  },
  {
   "cell_type": "markdown",
   "id": "c38962f5",
   "metadata": {},
   "source": [
    "3. Password Strength Checker"
   ]
  },
  {
   "cell_type": "code",
   "execution_count": null,
   "id": "24a73bde",
   "metadata": {},
   "outputs": [],
   "source": [
    "# Check password strength\n",
    "password = input(\"Enter your password: \")\n",
    "\n",
    "if len(password) < 6:\n",
    "    strength = \"Very Weak\"\n",
    "elif len(password) < 8:\n",
    "    strength = \"Weak\"\n",
    "elif len(password) < 10:\n",
    "    strength = \"Medium\"\n",
    "elif len(password) < 12:\n",
    "    strength = \"Strong\"\n",
    "else:\n",
    "    strength = \"Very Strong\"\n",
    "\n",
    "print(f\"Password strength: {strength}\")"
   ]
  },
  {
   "cell_type": "markdown",
   "id": "e6af7dae",
   "metadata": {},
   "source": [
    "⚠️ Common Mistakes to Avoid\n",
    "\n",
    "1. Using = instead of =="
   ]
  },
  {
   "cell_type": "code",
   "execution_count": null,
   "id": "f7b7360a",
   "metadata": {},
   "outputs": [],
   "source": [
    "# Wrong\n",
    "if x = 5:  # SyntaxError!\n",
    "    print(\"x is 5\")\n",
    "\n",
    "# Correct\n",
    "if x == 5:\n",
    "    print(\"x is 5\")"
   ]
  },
  {
   "cell_type": "markdown",
   "id": "5d474691",
   "metadata": {},
   "source": [
    "2. Forgetting Colon"
   ]
  },
  {
   "cell_type": "code",
   "execution_count": null,
   "id": "c636ade8",
   "metadata": {},
   "outputs": [],
   "source": [
    "# Wrong\n",
    "if x > 10  # SyntaxError: missing colon\n",
    "    print(\"Big number\")\n",
    "\n",
    "# Correct\n",
    "if x > 10:\n",
    "    print(\"Big number\")"
   ]
  },
  {
   "cell_type": "markdown",
   "id": "e83c6913",
   "metadata": {},
   "source": [
    "3. Incorrect Indentation"
   ]
  },
  {
   "cell_type": "code",
   "execution_count": null,
   "id": "0b6ad3e9",
   "metadata": {},
   "outputs": [],
   "source": [
    "# Wrong\n",
    "if x > 5:\n",
    "print(\"Big number\")  # IndentationError\n",
    "\n",
    "# Correct\n",
    "if x > 5:\n",
    "    print(\"Big number\")"
   ]
  },
  {
   "cell_type": "markdown",
   "id": "55442af1",
   "metadata": {},
   "source": [
    "📚 Summary\n",
    "\n",
    "if: Execute code if condition is True\n",
    "\n",
    "if-else: Choose between two alternatives\n",
    "\n",
    "if-elif-else: Choose between multiple alternatives\n",
    "\n",
    "Nested conditionals: Conditions inside conditions\n",
    "\n",
    "Use: ==, !=, >, <, >=, <= for comparisons\n",
    "\n",
    "Use: and, or, not for combining conditions"
   ]
  }
 ],
 "metadata": {
  "kernelspec": {
   "display_name": "Python 3",
   "language": "python",
   "name": "python3"
  },
  "language_info": {
   "name": "python",
   "version": "3.13.7"
  }
 },
 "nbformat": 4,
 "nbformat_minor": 5
}
