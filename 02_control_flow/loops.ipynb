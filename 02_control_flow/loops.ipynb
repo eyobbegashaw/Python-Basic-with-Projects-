{
 "cells": [
  {
   "cell_type": "markdown",
   "id": "2b9a8cf4",
   "metadata": {},
   "source": [
    "<h4 style=\"color:green\">Python Loops</h4>"
   ]
  },
  {
   "cell_type": "markdown",
   "id": "7707f7f3",
   "metadata": {},
   "source": [
    "📝 What are Loops?\n",
    "\n",
    "Loops allow you to execute a block of code multiple times. Python has two main loop types: for loops and while loops.\n",
    "\n",
    "🔄 for Loops\n",
    "\n",
    "Basic for Loop with range()"
   ]
  },
  {
   "cell_type": "code",
   "execution_count": null,
   "id": "72d25451",
   "metadata": {},
   "outputs": [],
   "source": [
    "# Loop 5 times\n",
    "for i in range(5):\n",
    "    print(f\"Loop iteration: {i}\")\n",
    "\n",
    "# Output:\n",
    "# Loop iteration: 0\n",
    "# Loop iteration: 1\n",
    "# Loop iteration: 2\n",
    "# Loop iteration: 3\n",
    "# Loop iteration: 4"
   ]
  },
  {
   "cell_type": "markdown",
   "id": "94db5219",
   "metadata": {},
   "source": [
    "range() Function Variations"
   ]
  },
  {
   "cell_type": "code",
   "execution_count": null,
   "id": "579ddc93",
   "metadata": {},
   "outputs": [],
   "source": [
    "# range(stop) - 0 to stop-1\n",
    "for i in range(3):\n",
    "    print(i)  # 0, 1, 2\n",
    "\n",
    "# range(start, stop) - start to stop-1\n",
    "for i in range(2, 5):\n",
    "    print(i)  # 2, 3, 4\n",
    "\n",
    "# range(start, stop, step) - with step\n",
    "for i in range(0, 10, 2):\n",
    "    print(i)  # 0, 2, 4, 6, 8\n",
    "\n",
    "# Counting backwards\n",
    "for i in range(5, 0, -1):\n",
    "    print(i)  # 5, 4, 3, 2, 1"
   ]
  },
  {
   "cell_type": "markdown",
   "id": "310e3e12",
   "metadata": {},
   "source": [
    "Looping through Lists"
   ]
  },
  {
   "cell_type": "code",
   "execution_count": null,
   "id": "d7e5c27f",
   "metadata": {},
   "outputs": [],
   "source": [
    "# Loop through list items\n",
    "fruits = [\"apple\", \"banana\", \"cherry\", \"date\"]\n",
    "\n",
    "for fruit in fruits:\n",
    "    print(f\"I like {fruit}\")\n",
    "\n",
    "# Output:\n",
    "# I like apple\n",
    "# I like banana\n",
    "# I like cherry\n",
    "# I like date"
   ]
  },
  {
   "cell_type": "markdown",
   "id": "280ff81e",
   "metadata": {},
   "source": [
    "Looping with Index"
   ]
  },
  {
   "cell_type": "code",
   "execution_count": null,
   "id": "95ef9a62",
   "metadata": {},
   "outputs": [],
   "source": [
    "# Using enumerate to get index and value\n",
    "fruits = [\"apple\", \"banana\", \"cherry\"]\n",
    "\n",
    "for index, fruit in enumerate(fruits):\n",
    "    print(f\"Index {index}: {fruit}\")\n",
    "\n",
    "# Output:\n",
    "# Index 0: apple\n",
    "# Index 1: banana\n",
    "# Index 2: cherry"
   ]
  },
  {
   "cell_type": "markdown",
   "id": "f8aaa863",
   "metadata": {},
   "source": [
    "⏳ while Loops\n",
    "\n",
    "Basic while Loop"
   ]
  },
  {
   "cell_type": "code",
   "execution_count": null,
   "id": "a8b5d646",
   "metadata": {},
   "outputs": [],
   "source": [
    "# Simple counter\n",
    "count = 1\n",
    "while count <= 5:\n",
    "    print(f\"Count: {count}\")\n",
    "    count += 1  # Don't forget to update the condition!\n",
    "\n",
    "# Output:\n",
    "# Count: 1\n",
    "# Count: 2\n",
    "# Count: 3\n",
    "# Count: 4\n",
    "# Count: 5"
   ]
  },
  {
   "cell_type": "markdown",
   "id": "9a98c5d7",
   "metadata": {},
   "source": [
    "User Input with while"
   ]
  },
  {
   "cell_type": "code",
   "execution_count": null,
   "id": "ad14438c",
   "metadata": {},
   "outputs": [],
   "source": [
    "# Keep asking until valid input\n",
    "password = \"\"\n",
    "while password != \"secret\":\n",
    "    password = input(\"Enter the password: \")\n",
    "    if password != \"secret\":\n",
    "        print(\"Wrong password! Try again.\")\n",
    "\n",
    "print(\"Access granted!\")"
   ]
  },
  {
   "cell_type": "markdown",
   "id": "b3022d2b",
   "metadata": {},
   "source": [
    "Infinite Loop with Break"
   ]
  },
  {
   "cell_type": "code",
   "execution_count": null,
   "id": "51eb21dc",
   "metadata": {},
   "outputs": [],
   "source": [
    "# Infinite loop with break condition\n",
    "count = 0\n",
    "while True:\n",
    "    print(f\"Loop count: {count}\")\n",
    "    count += 1\n",
    "    if count >= 5:\n",
    "        break  # Exit the loop\n",
    "\n",
    "# Output:\n",
    "# Loop count: 0\n",
    "# Loop count: 1\n",
    "# Loop count: 2\n",
    "# Loop count: 3\n",
    "# Loop count: 4"
   ]
  },
  {
   "cell_type": "markdown",
   "id": "5217aca6",
   "metadata": {},
   "source": [
    "🎯 Loop Control Statements\n",
    "\n",
    "break Statemen"
   ]
  },
  {
   "cell_type": "code",
   "execution_count": null,
   "id": "c3b8b129",
   "metadata": {},
   "outputs": [],
   "source": [
    "# Exit loop early\n",
    "for i in range(10):\n",
    "    if i == 5:\n",
    "        break  # Exit loop when i reaches 5\n",
    "    print(i)\n",
    "\n",
    "# Output: 0, 1, 2, 3, 4"
   ]
  },
  {
   "cell_type": "markdown",
   "id": "7e70c169",
   "metadata": {},
   "source": [
    "continue Statement"
   ]
  },
  {
   "cell_type": "code",
   "execution_count": null,
   "id": "ee887389",
   "metadata": {},
   "outputs": [],
   "source": [
    "# Skip current iteration\n",
    "for i in range(6):\n",
    "    if i % 2 == 0:  # Skip even numbers\n",
    "        continue\n",
    "    print(i)\n",
    "\n",
    "# Output: 1, 3, 5"
   ]
  },
  {
   "cell_type": "markdown",
   "id": "a0d76c38",
   "metadata": {},
   "source": [
    "pass Statement"
   ]
  },
  {
   "cell_type": "code",
   "execution_count": null,
   "id": "fbf77925",
   "metadata": {},
   "outputs": [],
   "source": [
    "# Placeholder - does nothing\n",
    "for i in range(3):\n",
    "    if i == 1:\n",
    "        pass  # Do nothing, just continue\n",
    "    print(i)\n",
    "\n",
    "# Output: 0, 1, 2"
   ]
  },
  {
   "cell_type": "markdown",
   "id": "d49921d3",
   "metadata": {},
   "source": [
    "💡 Practical Examples"
   ]
  },
  {
   "cell_type": "markdown",
   "id": "57214fb0",
   "metadata": {},
   "source": [
    "1. Multiplication Table Generator"
   ]
  },
  {
   "cell_type": "code",
   "execution_count": null,
   "id": "1cc84dee",
   "metadata": {},
   "outputs": [],
   "source": [
    "# Generate multiplication table\n",
    "number = int(input(\"Enter a number: \"))\n",
    "\n",
    "print(f\"Multiplication table for {number}:\")\n",
    "for i in range(1, 11):\n",
    "    result = number * i\n",
    "    print(f\"{number} × {i} = {result}\")"
   ]
  },
  {
   "cell_type": "markdown",
   "id": "5d7250a3",
   "metadata": {},
   "source": [
    "2.Password Strength Checker with Retry"
   ]
  },
  {
   "cell_type": "code",
   "execution_count": null,
   "id": "cd2b8681",
   "metadata": {},
   "outputs": [],
   "source": [
    "# Check password with retry limit\n",
    "max_attempts = 3\n",
    "attempts = 0\n",
    "correct_password = \"Python123\"\n",
    "\n",
    "while attempts < max_attempts:\n",
    "    password = input(\"Enter your password: \")\n",
    "    \n",
    "    if len(password) < 6:\n",
    "        print(\"Password too short! Minimum 6 characters.\")\n",
    "    elif password == correct_password:\n",
    "        print(\"Login successful!\")\n",
    "        break\n",
    "    else:\n",
    "        attempts += 1\n",
    "        remaining = max_attempts - attempts\n",
    "        print(f\"Wrong password! {remaining} attempts remaining.\")\n",
    "else:\n",
    "    print(\"Account locked! Too many failed attempts.\")"
   ]
  },
  {
   "cell_type": "markdown",
   "id": "e6bf1939",
   "metadata": {},
   "source": [
    "🔄 Nested Loops\n",
    "\n",
    "Pattern Printing"
   ]
  },
  {
   "cell_type": "code",
   "execution_count": null,
   "id": "9c12f3d8",
   "metadata": {},
   "outputs": [],
   "source": [
    "# Print triangle pattern\n",
    "print(\"Triangle Pattern:\")\n",
    "for i in range(1, 6):\n",
    "    for j in range(i):\n",
    "        print(\"*\", end=\"\")\n",
    "    print()  # New line\n",
    "\n",
    "# Output:\n",
    "# *\n",
    "# **\n",
    "# ***\n",
    "# ****\n",
    "# *****"
   ]
  },
  {
   "cell_type": "markdown",
   "id": "2a1ff53e",
   "metadata": {},
   "source": [
    "Multiplication Table Grid"
   ]
  },
  {
   "cell_type": "code",
   "execution_count": null,
   "id": "d70be845",
   "metadata": {},
   "outputs": [],
   "source": [
    "# Print multiplication table grid\n",
    "print(\"Multiplication Table:\")\n",
    "for i in range(1, 6):\n",
    "    for j in range(1, 6):\n",
    "        print(f\"{i*j:2}\", end=\" \")  # :2 for formatting\n",
    "    print()  # New line after each row\n",
    "\n",
    "# Output:\n",
    "#  1  2  3  4  5\n",
    "#  2  4  6  8 10\n",
    "#  3  6  9 12 15\n",
    "#  4  8 12 16 20\n",
    "#  5 10 15 20 25"
   ]
  },
  {
   "cell_type": "markdown",
   "id": "199abbb9",
   "metadata": {},
   "source": [
    "📊 Looping through Different Data Types\n",
    "\n",
    "Loop through String"
   ]
  },
  {
   "cell_type": "code",
   "execution_count": null,
   "id": "575ce09a",
   "metadata": {},
   "outputs": [],
   "source": [
    "# Loop through characters in string\n",
    "word = \"Python\"\n",
    "for char in word:\n",
    "    print(char)\n",
    "\n",
    "# Output: P, y, t, h, o, n"
   ]
  },
  {
   "cell_type": "markdown",
   "id": "f2eb3532",
   "metadata": {},
   "source": [
    "Loop through Dictionary"
   ]
  },
  {
   "cell_type": "code",
   "execution_count": null,
   "id": "1d06eb10",
   "metadata": {},
   "outputs": [],
   "source": [
    "# Loop through dictionary\n",
    "student = {\"name\": \"Alice\", \"age\": 20, \"grade\": \"A\"}\n",
    "\n",
    "# Loop through keys\n",
    "for key in student:\n",
    "    print(f\"{key}: {student[key]}\")\n",
    "\n",
    "# Loop through key-value pairs\n",
    "for key, value in student.items():\n",
    "    print(f\"{key}: {value}\")\n",
    "\n",
    "# Output:\n",
    "# name: Alice\n",
    "# age: 20\n",
    "# grade: A"
   ]
  },
  {
   "cell_type": "markdown",
   "id": "762f6590",
   "metadata": {},
   "source": [
    "Loop through List of Dictionaries"
   ]
  },
  {
   "cell_type": "code",
   "execution_count": null,
   "id": "6f9d0f57",
   "metadata": {},
   "outputs": [],
   "source": [
    "# Process multiple records\n",
    "students = [\n",
    "    {\"name\": \"Alice\", \"score\": 85},\n",
    "    {\"name\": \"Bob\", \"score\": 92},\n",
    "    {\"name\": \"Charlie\", \"score\": 78}\n",
    "]\n",
    "\n",
    "print(\"Student Scores:\")\n",
    "for student in students:\n",
    "    name = student[\"name\"]\n",
    "    score = student[\"score\"]\n",
    "    grade = \"A\" if score >= 90 else \"B\" if score >= 80 else \"C\"\n",
    "    print(f\"{name}: {score} ({grade})\")"
   ]
  },
  {
   "cell_type": "markdown",
   "id": "83a0ca77",
   "metadata": {},
   "source": [
    "🎪 Advanced Loop Examples\n",
    "\n",
    "1. Prime Number Checker"
   ]
  },
  {
   "cell_type": "code",
   "execution_count": null,
   "id": "f42c1e17",
   "metadata": {},
   "outputs": [],
   "source": [
    "# Check if a number is prime\n",
    "number = int(input(\"Enter a number: \"))\n",
    "is_prime = True\n",
    "\n",
    "if number > 1:\n",
    "    for i in range(2, number):\n",
    "        if number % i == 0:\n",
    "            is_prime = False\n",
    "            break\n",
    "else:\n",
    "    is_prime = False\n",
    "\n",
    "if is_prime:\n",
    "    print(f\"{number} is a prime number!\")\n",
    "else:\n",
    "    print(f\"{number} is not a prime number.\")"
   ]
  },
  {
   "cell_type": "markdown",
   "id": "815eeca3",
   "metadata": {},
   "source": [
    "2. Fibonacci Sequence Generator"
   ]
  },
  {
   "cell_type": "code",
   "execution_count": null,
   "id": "4b9d1698",
   "metadata": {},
   "outputs": [],
   "source": [
    "# Generate Fibonacci sequence\n",
    "n = int(input(\"How many Fibonacci numbers? \"))\n",
    "\n",
    "a, b = 0, 1\n",
    "count = 0\n",
    "\n",
    "print(\"Fibonacci sequence:\")\n",
    "while count < n:\n",
    "    print(a, end=\" \")\n",
    "    a, b = b, a + b\n",
    "    count += 1"
   ]
  },
  {
   "cell_type": "markdown",
   "id": "fa3789eb",
   "metadata": {},
   "source": [
    "3. Data Analysis with Loops"
   ]
  },
  {
   "cell_type": "code",
   "execution_count": null,
   "id": "fe203cac",
   "metadata": {},
   "outputs": [],
   "source": [
    "# Analyze student grades\n",
    "grades = [85, 92, 78, 90, 65, 88, 72, 95, 60, 83]\n",
    "\n",
    "# Calculate statistics\n",
    "total = 0\n",
    "highest = grades[0]\n",
    "lowest = grades[0]\n",
    "\n",
    "for grade in grades:\n",
    "    total += grade\n",
    "    if grade > highest:\n",
    "        highest = grade\n",
    "    if grade < lowest:\n",
    "        lowest = grade\n",
    "\n",
    "average = total / len(grades)\n",
    "\n",
    "print(f\"Grades: {grades}\")\n",
    "print(f\"Highest: {highest}\")\n",
    "print(f\"Lowest: {lowest}\")\n",
    "print(f\"Average: {average:.2f}\")"
   ]
  },
  {
   "cell_type": "markdown",
   "id": "78b8b0ab",
   "metadata": {},
   "source": [
    "⚠️ Common Loop Mistakes\n",
    "\n",
    "1. Infinite while Loop"
   ]
  },
  {
   "cell_type": "code",
   "execution_count": null,
   "id": "933600d8",
   "metadata": {},
   "outputs": [],
   "source": [
    "# Wrong - infinite loop!\n",
    "# count = 1\n",
    "# while count <= 5:\n",
    "#     print(count)\n",
    "#     # Forgot to increment count!\n",
    "\n",
    "# Correct\n",
    "count = 1\n",
    "while count <= 5:\n",
    "    print(count)\n",
    "    count += 1  # Don't forget this!"
   ]
  },
  {
   "cell_type": "markdown",
   "id": "c0736ab5",
   "metadata": {},
   "source": [
    "2. Modifying List While Looping"
   ]
  },
  {
   "cell_type": "code",
   "execution_count": null,
   "id": "b5dab68c",
   "metadata": {},
   "outputs": [],
   "source": [
    "# Problematic - modifying list while iterating\n",
    "numbers = [1, 2, 3, 4, 5]\n",
    "# for num in numbers:\n",
    "#     if num % 2 == 0:\n",
    "#         numbers.remove(num)  # This can cause issues\n",
    "\n",
    "# Better approach - create new list\n",
    "numbers = [1, 2, 3, 4, 5]\n",
    "odd_numbers = []\n",
    "for num in numbers:\n",
    "    if num % 2 != 0:\n",
    "        odd_numbers.append(num)\n",
    "print(odd_numbers)  # [1, 3, 5]"
   ]
  },
  {
   "cell_type": "markdown",
   "id": "2557efe5",
   "metadata": {},
   "source": [
    "📚 Summary\n",
    "\n",
    "for loops: When you know how many times to iterate\n",
    "\n",
    "while loops: When you don't know how many times, but have a condition\n",
    "\n",
    "range(): Generate sequences of numbers for looping\n",
    "\n",
    "break: Exit loop immediately\n",
    "\n",
    "continue: Skip to next iteration\n",
    "\n",
    "pass: Do nothing (placeholder)\n",
    "\n",
    "Nested loops: Loops inside loops for complex patterns"
   ]
  }
 ],
 "metadata": {
  "kernelspec": {
   "display_name": "Python 3",
   "language": "python",
   "name": "python3"
  },
  "language_info": {
   "name": "python",
   "version": "3.13.7"
  }
 },
 "nbformat": 4,
 "nbformat_minor": 5
}
