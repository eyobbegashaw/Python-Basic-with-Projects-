{
 "cells": [
  {
   "cell_type": "markdown",
   "id": "835c6db7",
   "metadata": {},
   "source": [
    "<h4 style=\"color:green\">Python Tuples</h4>"
   ]
  },
  {
   "cell_type": "markdown",
   "id": "1c02b42a",
   "metadata": {},
   "source": [
    "📝 What are Tuples?\n",
    "\n",
    "Tuples are ordered, immutable collections that can hold items of different data types. Once created, they cannot be modified."
   ]
  },
  {
   "cell_type": "markdown",
   "id": "d69a8b77",
   "metadata": {},
   "source": [
    "🎯 Creating Tuples\n",
    "\n",
    "Different Ways to Create Tuples"
   ]
  },
  {
   "cell_type": "code",
   "execution_count": null,
   "id": "53693046",
   "metadata": {},
   "outputs": [],
   "source": [
    "# Empty tuple\n",
    "empty = ()\n",
    "empty2 = tuple()\n",
    "\n",
    "# Single element tuple (must have comma)\n",
    "single = (5,)        # This is a tuple\n",
    "not_single = (5)     # This is just integer 5\n",
    "\n",
    "# Multiple elements\n",
    "colors = (\"red\", \"green\", \"blue\")\n",
    "numbers = 1, 2, 3, 4  # Parentheses are optional\n",
    "\n",
    "# Using tuple() constructor\n",
    "from_list = tuple([1, 2, 3])      # (1, 2, 3)\n",
    "from_string = tuple(\"hello\")      # ('h', 'e', 'l', 'l', 'o')\n",
    "from_range = tuple(range(5))      # (0, 1, 2, 3, 4)\n",
    "\n",
    "print(from_list)    # (1, 2, 3)\n",
    "print(from_string)  # ('h', 'e', 'l', 'l', 'o')"
   ]
  },
  {
   "cell_type": "markdown",
   "id": "3ad142d6",
   "metadata": {},
   "source": [
    "🔍 Accessing Tuple Elements\n",
    "\n",
    "Indexing"
   ]
  },
  {
   "cell_type": "code",
   "execution_count": null,
   "id": "51b1d8db",
   "metadata": {},
   "outputs": [],
   "source": [
    "fruits = (\"apple\", \"banana\", \"cherry\", \"date\", \"elderberry\")\n",
    "\n",
    "# Positive indexing (from start)\n",
    "print(fruits[0])   # \"apple\" - first element\n",
    "print(fruits[1])   # \"banana\" - second element\n",
    "print(fruits[2])   # \"cherry\" - third element\n",
    "\n",
    "# Negative indexing (from end)\n",
    "print(fruits[-1])  # \"elderberry\" - last element\n",
    "print(fruits[-2])  # \"date\" - second last\n",
    "print(fruits[-3])  # \"cherry\" - third from end"
   ]
  },
  {
   "cell_type": "markdown",
   "id": "b2a77e95",
   "metadata": {},
   "source": [
    "Slicing"
   ]
  },
  {
   "cell_type": "code",
   "execution_count": null,
   "id": "c7886f86",
   "metadata": {},
   "outputs": [],
   "source": [
    "numbers = (0, 1, 2, 3, 4, 5, 6, 7, 8, 9)\n",
    "\n",
    "# Basic slicing: tuple[start:stop:step]\n",
    "print(numbers[2:5])    # (2, 3, 4) - index 2 to 4\n",
    "print(numbers[:4])     # (0, 1, 2, 3) - start to index 3\n",
    "print(numbers[5:])     # (5, 6, 7, 8, 9) - index 5 to end\n",
    "print(numbers[::2])    # (0, 2, 4, 6, 8) - every 2nd element\n",
    "print(numbers[::-1])   # (9, 8, 7, 6, 5, 4, 3, 2, 1, 0) - reverse"
   ]
  },
  {
   "cell_type": "markdown",
   "id": "95c61354",
   "metadata": {},
   "source": [
    "🔄 Tuple Operations\n",
    "\n",
    "Membership Testing"
   ]
  },
  {
   "cell_type": "code",
   "execution_count": null,
   "id": "57fbb5b5",
   "metadata": {},
   "outputs": [],
   "source": [
    "fruits = (\"apple\", \"banana\", \"cherry\")\n",
    "\n",
    "# in operator\n",
    "print(\"apple\" in fruits)    # True\n",
    "print(\"grape\" in fruits)    # False\n",
    "print(\"apple\" not in fruits) # False\n",
    "\n",
    "# Practical use\n",
    "if \"banana\" in fruits:\n",
    "    print(\"We have bananas!\")  # This will print"
   ]
  },
  {
   "cell_type": "markdown",
   "id": "813afd0a",
   "metadata": {},
   "source": [
    "Tuple Concatenation and Repetition"
   ]
  },
  {
   "cell_type": "code",
   "execution_count": null,
   "id": "6ccc4243",
   "metadata": {},
   "outputs": [],
   "source": [
    "tuple1 = (1, 2, 3)\n",
    "tuple2 = (4, 5, 6)\n",
    "\n",
    "# Concatenation\n",
    "combined = tuple1 + tuple2\n",
    "print(combined)  # (1, 2, 3, 4, 5, 6)\n",
    "\n",
    "# Repetition\n",
    "repeated = tuple1 * 3\n",
    "print(repeated)  # (1, 2, 3, 1, 2, 3, 1, 2, 3)"
   ]
  },
  {
   "cell_type": "markdown",
   "id": "3b93c82c",
   "metadata": {},
   "source": [
    "Tuple Methods"
   ]
  },
  {
   "cell_type": "code",
   "execution_count": null,
   "id": "38e2336f",
   "metadata": {},
   "outputs": [],
   "source": [
    "numbers = (1, 2, 3, 2, 4, 2, 5)\n",
    "\n",
    "# count() - count occurrences\n",
    "print(numbers.count(2))  # 3\n",
    "\n",
    "# index() - find first occurrence index\n",
    "print(numbers.index(3))  # 2\n",
    "print(numbers.index(2))  # 1 (first occurrence of 2)\n",
    "\n",
    "# index with start and end\n",
    "print(numbers.index(2, 2))  # 3 (start searching from index 2)"
   ]
  },
  {
   "cell_type": "markdown",
   "id": "036eae37",
   "metadata": {},
   "source": [
    "📊 Tuple vs List\n",
    "\n",
    "Immutability Comparison"
   ]
  },
  {
   "cell_type": "code",
   "execution_count": null,
   "id": "522c3924",
   "metadata": {},
   "outputs": [],
   "source": [
    "# Lists are mutable\n",
    "my_list = [1, 2, 3]\n",
    "my_list[0] = 10  # This works\n",
    "print(my_list)   # [10, 2, 3]\n",
    "\n",
    "# Tuples are immutable\n",
    "my_tuple = (1, 2, 3)\n",
    "# my_tuple[0] = 10  # This will cause TypeError!\n",
    "\n",
    "# But we can create new tuples\n",
    "new_tuple = my_tuple + (4, 5)\n",
    "print(new_tuple)  # (1, 2, 3, 4, 5)"
   ]
  },
  {
   "cell_type": "markdown",
   "id": "e695db1e",
   "metadata": {},
   "source": [
    "When to Use Each"
   ]
  },
  {
   "cell_type": "code",
   "execution_count": null,
   "id": "ce7d9aee",
   "metadata": {},
   "outputs": [],
   "source": [
    "# Use lists when you need to modify the collection\n",
    "shopping_cart = [\"apple\", \"banana\"]\n",
    "shopping_cart.append(\"orange\")  # OK\n",
    "\n",
    "# Use tuples for fixed collections\n",
    "days_of_week = (\"Mon\", \"Tue\", \"Wed\", \"Thu\", \"Fri\", \"Sat\", \"Sun\")\n",
    "# days_of_week.append(\"Extra\")  # Not allowed - which is good!"
   ]
  },
  {
   "cell_type": "markdown",
   "id": "4556bbe6",
   "metadata": {},
   "source": [
    "💡 Practical Tuple Examples\n",
    "\n",
    "1. Returning Multiple Values from Functions"
   ]
  },
  {
   "cell_type": "code",
   "execution_count": null,
   "id": "ac597a60",
   "metadata": {},
   "outputs": [],
   "source": [
    "def calculate_stats(numbers):\n",
    "    \"\"\"Return multiple statistics as a tuple\"\"\"\n",
    "    total = sum(numbers)\n",
    "    count = len(numbers)\n",
    "    average = total / count if count > 0 else 0\n",
    "    maximum = max(numbers) if numbers else 0\n",
    "    minimum = min(numbers) if numbers else 0\n",
    "    \n",
    "    return total, count, average, maximum, minimum\n",
    "\n",
    "# Unpack returned tuple\n",
    "scores = [85, 92, 78, 90, 88]\n",
    "total, count, avg, max_val, min_val = calculate_stats(scores)\n",
    "\n",
    "print(f\"Total: {total}\")      # Total: 433\n",
    "print(f\"Count: {count}\")      # Count: 5\n",
    "print(f\"Average: {avg:.1f}\")  # Average: 86.6\n",
    "print(f\"Max: {max_val}\")      # Max: 92\n",
    "print(f\"Min: {min_val}\")      # Min: 78"
   ]
  },
  {
   "cell_type": "markdown",
   "id": "c8ac5e49",
   "metadata": {},
   "source": [
    "🔄 Tuple Unpacking\n",
    "\n",
    "Basic Unpacking"
   ]
  },
  {
   "cell_type": "code",
   "execution_count": null,
   "id": "d8a82092",
   "metadata": {},
   "outputs": [],
   "source": [
    "# Unpacking tuples\n",
    "person = (\"Alice\", 25, \"Engineer\")\n",
    "name, age, profession = person\n",
    "\n",
    "print(f\"Name: {name}\")           # Name: Alice\n",
    "print(f\"Age: {age}\")             # Age: 25\n",
    "print(f\"Profession: {profession}\") # Profession: Engineer\n",
    "\n",
    "# Swapping variables\n",
    "a = 5\n",
    "b = 10\n",
    "a, b = b, a  # This creates a tuple and unpacks it\n",
    "print(f\"a = {a}, b = {b}\")  # a = 10, b = 5"
   ]
  },
  {
   "cell_type": "markdown",
   "id": "3b323d48",
   "metadata": {},
   "source": [
    "Extended Unpacking"
   ]
  },
  {
   "cell_type": "code",
   "execution_count": null,
   "id": "b4fa2db3",
   "metadata": {},
   "outputs": [],
   "source": [
    "# Using * for extended unpacking\n",
    "numbers = (1, 2, 3, 4, 5)\n",
    "first, *middle, last = numbers\n",
    "\n",
    "print(f\"First: {first}\")    # First: 1\n",
    "print(f\"Middle: {middle}\")  # Middle: [2, 3, 4]\n",
    "print(f\"Last: {last}\")      # Last: 5\n",
    "\n",
    "# Practical example with function arguments\n",
    "def process_scores(*scores):\n",
    "    \"\"\"Process variable number of scores\"\"\"\n",
    "    if not scores:\n",
    "        return \"No scores provided\"\n",
    "    \n",
    "    highest = max(scores)\n",
    "    lowest = min(scores)\n",
    "    average = sum(scores) / len(scores)\n",
    "    \n",
    "    return highest, lowest, average\n",
    "\n",
    "result = process_scores(85, 92, 78, 90, 88)\n",
    "high, low, avg = result\n",
    "print(f\"High: {high}, Low: {low}, Average: {avg:.1f}\")"
   ]
  },
  {
   "cell_type": "markdown",
   "id": "132d6b0c",
   "metadata": {},
   "source": [
    "🎪 Nested Tuples\n",
    "\n",
    "Working with Nested Tuples"
   ]
  },
  {
   "cell_type": "code",
   "execution_count": null,
   "id": "acd660df",
   "metadata": {},
   "outputs": [],
   "source": [
    "# Nested tuples for complex data\n",
    "employees = (\n",
    "    (\"Alice\", (50000, \"USD\"), (\"IT\", \"Developer\")),\n",
    "    (\"Bob\", (45000, \"EUR\"), (\"HR\", \"Manager\")),\n",
    "    (\"Charlie\", (60000, \"USD\"), (\"Finance\", \"Analyst\"))\n",
    ")\n",
    "\n",
    "def get_employee_info(employees, name):\n",
    "    \"\"\"Get specific employee information\"\"\"\n",
    "    for employee in employees:\n",
    "        if employee[0] == name:\n",
    "            emp_name, salary_info, position_info = employee\n",
    "            salary, currency = salary_info\n",
    "            department, title = position_info\n",
    "            return {\n",
    "                \"name\": emp_name,\n",
    "                \"salary\": salary,\n",
    "                \"currency\": currency,\n",
    "                \"department\": department,\n",
    "                \"title\": title\n",
    "            }\n",
    "    return None\n",
    "\n",
    "# Usage\n",
    "alice_info = get_employee_info(employees, \"Alice\")\n",
    "print(f\"Alice info: {alice_info}\")"
   ]
  },
  {
   "cell_type": "markdown",
   "id": "35d116f1",
   "metadata": {},
   "source": [
    "📚 Tuple Comprehensions?\n",
    "\n",
    "Generator Expressions"
   ]
  },
  {
   "cell_type": "code",
   "execution_count": null,
   "id": "ff60d2ec",
   "metadata": {},
   "outputs": [],
   "source": [
    "# Tuples don't have comprehensions, but we can use generator expressions\n",
    "numbers = [1, 2, 3, 4, 5]\n",
    "\n",
    "# This creates a generator, then converts to tuple\n",
    "squares_tuple = tuple(x ** 2 for x in numbers)\n",
    "print(squares_tuple)  # (1, 4, 9, 16, 25)\n",
    "\n",
    "# Even numbers tuple\n",
    "evens_tuple = tuple(x for x in range(10) if x % 2 == 0)\n",
    "print(evens_tuple)  # (0, 2, 4, 6, 8)"
   ]
  },
  {
   "cell_type": "markdown",
   "id": "a14cdb83",
   "metadata": {},
   "source": [
    "💡 Real-world Applications"
   ]
  },
  {
   "cell_type": "markdown",
   "id": "36bfb964",
   "metadata": {},
   "source": [
    "Function Arguments and Return Values"
   ]
  },
  {
   "cell_type": "code",
   "execution_count": null,
   "id": "f1ccf41c",
   "metadata": {},
   "outputs": [],
   "source": [
    "def process_student_data(student_data):\n",
    "    \"\"\"Process student data and return multiple statistics\"\"\"\n",
    "    name, *scores, graduation_year = student_data\n",
    "    total_score = sum(scores)\n",
    "    average_score = total_score / len(scores)\n",
    "    passed = average_score >= 70\n",
    "    \n",
    "    return (\n",
    "        name,\n",
    "        total_score,\n",
    "        average_score,\n",
    "        passed,\n",
    "        graduation_year\n",
    "    )\n",
    "\n",
    "# Example usage\n",
    "student = (\"Alice Johnson\", 85, 92, 78, 90, 2024)\n",
    "name, total, avg, passed, grad_year = process_student_data(student)\n",
    "\n",
    "print(f\"Student: {name}\")\n",
    "print(f\"Total Score: {total}\")\n",
    "print(f\"Average: {avg:.1f}\")\n",
    "print(f\"Status: {'Passed' if passed else 'Failed'}\")\n",
    "print(f\"Graduation: {grad_year}\")"
   ]
  },
  {
   "cell_type": "markdown",
   "id": "28418990",
   "metadata": {},
   "source": [
    "📚 Summary\n",
    "\n",
    "Key Characteristics:\n",
    "\n",
    "✅ Ordered: Elements maintain their position\n",
    "\n",
    "✅ Immutable: Cannot be changed after creation\n",
    "\n",
    "✅ Indexed: Access elements by position\n",
    "\n",
    "✅ Heterogeneous: Can hold different data types\n",
    "\n",
    "✅ Fast: Generally faster than lists\n",
    "\n",
    "✅ Hashable: Can be used as dictionary keys (if all elements are hashable)\n",
    "\n",
    "When to Use Tuples:\n",
    "Fixed collections that shouldn't change\n",
    "\n",
    "Returning multiple values from functions\n",
    "\n",
    "Dictionary keys (if immutable)\n",
    "\n",
    "Data integrity - preventing accidental modification\n",
    "\n",
    "Performance-critical code\n",
    "\n",
    "When to Use Lists:\n",
    "Collections that need modification\n",
    "\n",
    "When you need to add/remove elements\n",
    "\n",
    "When you need list-specific methods\n",
    "\n",
    "Common Operations:\n",
    "Access: Indexing tuple[index], slicing tuple[start:stop:step]\n",
    "\n",
    "Search: in, not in, count(), index()\n",
    "\n",
    "Combine: + (concatenation), * (repetition)\n",
    "\n",
    "Unpacking: a, b, c = tuple"
   ]
  }
 ],
 "metadata": {
  "kernelspec": {
   "display_name": "base",
   "language": "python",
   "name": "python3"
  },
  "language_info": {
   "name": "python",
   "version": "3.12.7"
  }
 },
 "nbformat": 4,
 "nbformat_minor": 5
}
