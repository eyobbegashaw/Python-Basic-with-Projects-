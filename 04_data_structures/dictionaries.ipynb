{
 "cells": [
  {
   "cell_type": "markdown",
   "id": "0d7f9222",
   "metadata": {},
   "source": [
    "<h4 style=\"color:green\">Python Dictionaries</h4>"
   ]
  },
  {
   "cell_type": "markdown",
   "id": "66fa5473",
   "metadata": {},
   "source": [
    "📝 What are Dictionaries?\n",
    "\n",
    "Dictionaries are unordered, mutable collections of key-value pairs. They are optimized for retrieving values when the key is known."
   ]
  },
  {
   "cell_type": "code",
   "execution_count": null,
   "id": "6014dd9d",
   "metadata": {},
   "outputs": [],
   "source": [
    "# Creating dictionaries\n",
    "empty_dict = {}\n",
    "person = {\"name\": \"Alice\", \"age\": 25, \"city\": \"New York\"}\n",
    "mixed_keys = {1: \"one\", \"two\": 2, 3.0: \"three\"}"
   ]
  },
  {
   "cell_type": "markdown",
   "id": "75af5154",
   "metadata": {},
   "source": [
    "🎯 Creating Dictionaries\n",
    "\n",
    "Different Ways to Create Dictionaries"
   ]
  },
  {
   "cell_type": "code",
   "execution_count": null,
   "id": "0f38afb8",
   "metadata": {},
   "outputs": [],
   "source": [
    "# Empty dictionary\n",
    "empty = {}\n",
    "empty2 = dict()\n",
    "\n",
    "# With key-value pairs\n",
    "student = {\"name\": \"John\", \"age\": 20, \"grade\": \"A\"}\n",
    "colors = {\"red\": \"#FF0000\", \"green\": \"#00FF00\", \"blue\": \"#0000FF\"}\n",
    "\n",
    "# Using dict() constructor\n",
    "from_tuples = dict([(\"name\", \"Alice\"), (\"age\", 25), (\"city\", \"London\")])\n",
    "from_kwargs = dict(name=\"Bob\", age=30, city=\"Paris\")\n",
    "\n",
    "# Using dictionary comprehension\n",
    "squares = {x: x**2 for x in range(1, 6)}  # {1: 1, 2: 4, 3: 9, 4: 16, 5: 25}\n",
    "\n",
    "print(from_tuples)  # {'name': 'Alice', 'age': 25, 'city': 'London'}\n",
    "print(squares)      # {1: 1, 2: 4, 3: 9, 4: 16, 5: 25}"
   ]
  },
  {
   "cell_type": "markdown",
   "id": "7ad3392c",
   "metadata": {},
   "source": [
    "🔍 Accessing Dictionary Elements\n",
    "\n",
    "Basic Access"
   ]
  },
  {
   "cell_type": "code",
   "execution_count": null,
   "id": "9af58d57",
   "metadata": {},
   "outputs": [],
   "source": [
    "person = {\"name\": \"Alice\", \"age\": 25, \"city\": \"New York\"}\n",
    "\n",
    "# Using square brackets\n",
    "print(person[\"name\"])  # \"Alice\"\n",
    "print(person[\"age\"])   # 25\n",
    "\n",
    "# Using get() method (safer)\n",
    "print(person.get(\"name\"))      # \"Alice\"\n",
    "print(person.get(\"country\"))   # None (key doesn't exist)\n",
    "print(person.get(\"country\", \"USA\"))  # \"USA\" (default value)\n",
    "\n",
    "# Accessing all keys, values, and items\n",
    "print(person.keys())    # dict_keys(['name', 'age', 'city'])\n",
    "print(person.values())  # dict_values(['Alice', 25, 'New York'])\n",
    "print(person.items())   # dict_items([('name', 'Alice'), ('age', 25), ('city', 'New York')])"
   ]
  },
  {
   "cell_type": "markdown",
   "id": "4ae03208",
   "metadata": {},
   "source": [
    "Handling Missing Keys"
   ]
  },
  {
   "cell_type": "code",
   "execution_count": null,
   "id": "c9ee1516",
   "metadata": {},
   "outputs": [],
   "source": [
    "student = {\"name\": \"John\", \"grade\": \"A\"}\n",
    "\n",
    "# ❌ This would cause KeyError\n",
    "# print(student[\"age\"])\n",
    "\n",
    "# ✅ Safe ways to access\n",
    "print(student.get(\"age\"))              # None\n",
    "print(student.get(\"age\", \"Not set\"))   # \"Not set\"\n",
    "\n",
    "# Using setdefault()\n",
    "age = student.setdefault(\"age\", 20)    # Sets age to 20 if not exists\n",
    "print(age)        # 20\n",
    "print(student)    # {'name': 'John', 'grade': 'A', 'age': 20}"
   ]
  },
  {
   "cell_type": "markdown",
   "id": "17af1f8c",
   "metadata": {},
   "source": [
    "✏️ Modifying Dictionaries\n",
    "\n",
    "Adding and Updating Elements"
   ]
  },
  {
   "cell_type": "code",
   "execution_count": null,
   "id": "7ae04e31",
   "metadata": {},
   "outputs": [],
   "source": [
    "person = {\"name\": \"Alice\", \"age\": 25}\n",
    "\n",
    "# Adding new key-value pairs\n",
    "person[\"city\"] = \"New York\"\n",
    "person[\"job\"] = \"Engineer\"\n",
    "print(person)  # {'name': 'Alice', 'age': 25, 'city': 'New York', 'job': 'Engineer'}\n",
    "\n",
    "# Updating existing values\n",
    "person[\"age\"] = 26\n",
    "person[\"city\"] = \"Boston\"\n",
    "print(person)  # {'name': 'Alice', 'age': 26, 'city': 'Boston', 'job': 'Engineer'}\n",
    "\n",
    "# update() method - add/update multiple items\n",
    "person.update({\"age\": 27, \"country\": \"USA\", \"hobby\": \"Reading\"})\n",
    "print(person)  # Updated with new values"
   ]
  },
  {
   "cell_type": "markdown",
   "id": "a0487091",
   "metadata": {},
   "source": [
    "Removing Elements"
   ]
  },
  {
   "cell_type": "code",
   "execution_count": null,
   "id": "5a84deaf",
   "metadata": {},
   "outputs": [],
   "source": [
    "student = {\"name\": \"Alice\", \"age\": 20, \"grade\": \"A\", \"city\": \"NYC\"}\n",
    "\n",
    "# pop() - remove by key (returns value)\n",
    "age = student.pop(\"age\")\n",
    "print(f\"Removed age: {age}\")  # Removed age: 20\n",
    "print(student)  # {'name': 'Alice', 'grade': 'A', 'city': 'NYC'}\n",
    "\n",
    "# popitem() - remove last inserted item (Python 3.7+)\n",
    "last_item = student.popitem()\n",
    "print(f\"Removed: {last_item}\")  # Removed: ('city', 'NYC')\n",
    "print(student)  # {'name': 'Alice', 'grade': 'A'}\n",
    "\n",
    "# del statement\n",
    "del student[\"grade\"]\n",
    "print(student)  # {'name': 'Alice'}\n",
    "\n",
    "# clear() - remove all items\n",
    "student.clear()\n",
    "print(student)  # {}"
   ]
  },
  {
   "cell_type": "markdown",
   "id": "3e11484a",
   "metadata": {},
   "source": [
    "🔧 Dictionary Methods\n",
    "\n",
    "Common Method"
   ]
  },
  {
   "cell_type": "code",
   "execution_count": null,
   "id": "59d50726",
   "metadata": {},
   "outputs": [],
   "source": [
    "inventory = {\"apples\": 10, \"bananas\": 5, \"oranges\": 8}\n",
    "\n",
    "# copy() - create shallow copy\n",
    "inventory_copy = inventory.copy()\n",
    "print(inventory_copy)  # {'apples': 10, 'bananas': 5, 'oranges': 8}\n",
    "\n",
    "# fromkeys() - create dict from sequence\n",
    "keys = [\"name\", \"age\", \"city\"]\n",
    "default_dict = dict.fromkeys(keys, \"unknown\")\n",
    "print(default_dict)  # {'name': 'unknown', 'age': 'unknown', 'city': 'unknown'}\n",
    "\n",
    "# Checking existence\n",
    "print(\"apples\" in inventory)     # True\n",
    "print(\"grapes\" not in inventory) # True"
   ]
  },
  {
   "cell_type": "markdown",
   "id": "dbd3be02",
   "metadata": {},
   "source": [
    "📊 Dictionary Comprehensions\n",
    "\n",
    "Basic Comprehensions"
   ]
  },
  {
   "cell_type": "code",
   "execution_count": null,
   "id": "f1e51c25",
   "metadata": {},
   "outputs": [],
   "source": [
    "# Create dictionary with comprehension\n",
    "squares = {x: x**2 for x in range(1, 6)}\n",
    "print(squares)  # {1: 1, 2: 4, 3: 9, 4: 16, 5: 25}\n",
    "\n",
    "# From two lists\n",
    "names = [\"Alice\", \"Bob\", \"Charlie\"]\n",
    "scores = [85, 92, 78]\n",
    "students = {name: score for name, score in zip(names, scores)}\n",
    "print(students)  # {'Alice': 85, 'Bob': 92, 'Charlie': 78}"
   ]
  },
  {
   "cell_type": "markdown",
   "id": "beceedac",
   "metadata": {},
   "source": [
    "Comprehensions with Conditions"
   ]
  },
  {
   "cell_type": "code",
   "execution_count": null,
   "id": "ba33972d",
   "metadata": {},
   "outputs": [],
   "source": [
    "numbers = [1, 2, 3, 4, 5, 6, 7, 8, 9, 10]\n",
    "\n",
    "# Even squares only\n",
    "even_squares = {x: x**2 for x in numbers if x % 2 == 0}\n",
    "print(even_squares)  # {2: 4, 4: 16, 6: 36, 8: 64, 10: 100}\n",
    "\n",
    "# Transform values\n",
    "prices = {\"apple\": 1.0, \"banana\": 0.5, \"orange\": 0.8}\n",
    "discounted = {item: price * 0.9 for item, price in prices.items()}\n",
    "print(discounted)  # {'apple': 0.9, 'banana': 0.45, 'orange': 0.72}\n",
    "\n",
    "# Conditional key transformation\n",
    "data = {\"first_name\": \"Alice\", \"last_name\": \"Smith\", \"age\": 25}\n",
    "formatted = {k.upper(): v for k, v in data.items() if k != \"age\"}\n",
    "print(formatted)  # {'FIRST_NAME': 'Alice', 'LAST_NAME': 'Smith'}"
   ]
  },
  {
   "cell_type": "markdown",
   "id": "e00d2cfc",
   "metadata": {},
   "source": [
    "💡 Practical Examples\n",
    "\n",
    "1. Student Database"
   ]
  },
  {
   "cell_type": "code",
   "execution_count": null,
   "id": "ae987ac0",
   "metadata": {},
   "outputs": [],
   "source": [
    "# Student management system\n",
    "students = {\n",
    "    \"S001\": {\"name\": \"Alice\", \"age\": 20, \"grade\": \"A\", \"subjects\": [\"Math\", \"Physics\"]},\n",
    "    \"S002\": {\"name\": \"Bob\", \"age\": 21, \"grade\": \"B\", \"subjects\": [\"Chemistry\", \"Biology\"]},\n",
    "    \"S003\": {\"name\": \"Charlie\", \"age\": 19, \"grade\": \"A\", \"subjects\": [\"Math\", \"Computer Science\"]}\n",
    "}\n",
    "\n",
    "def add_student(student_id, name, age, grade, subjects):\n",
    "    \"\"\"Add a new student to the database\"\"\"\n",
    "    students[student_id] = {\n",
    "        \"name\": name,\n",
    "        \"age\": age,\n",
    "        \"grade\": grade,\n",
    "        \"subjects\": subjects\n",
    "    }\n",
    "\n",
    "def find_students_by_grade(grade):\n",
    "    \"\"\"Find all students with specific grade\"\"\"\n",
    "    return {sid: data for sid, data in students.items() if data[\"grade\"] == grade}\n",
    "\n",
    "def get_student_report(student_id):\n",
    "    \"\"\"Generate report for specific student\"\"\"\n",
    "    if student_id not in students:\n",
    "        return \"Student not found\"\n",
    "    \n",
    "    student = students[student_id]\n",
    "    return f\"\"\"\n",
    "    Student ID: {student_id}\n",
    "    Name: {student['name']}\n",
    "    Age: {student['age']}\n",
    "    Grade: {student['grade']}\n",
    "    Subjects: {', '.join(student['subjects'])}\n",
    "    \"\"\"\n",
    "\n",
    "# Usage\n",
    "add_student(\"S004\", \"Diana\", 22, \"A\", [\"History\", \"English\"])\n",
    "a_students = find_students_by_grade(\"A\")\n",
    "report = get_student_report(\"S001\")\n",
    "\n",
    "print(\"A Grade Students:\", list(a_students.keys()))\n",
    "print(report)"
   ]
  },
  {
   "cell_type": "markdown",
   "id": "a7a74a83",
   "metadata": {},
   "source": [
    "2. Word Frequency Counter"
   ]
  },
  {
   "cell_type": "code",
   "execution_count": null,
   "id": "0a63b3fc",
   "metadata": {},
   "outputs": [],
   "source": [
    "def count_word_frequency(text):\n",
    "    \"\"\"Count frequency of each word in text\"\"\"\n",
    "    words = text.lower().split()\n",
    "    frequency = {}\n",
    "    \n",
    "    for word in words:\n",
    "        # Remove punctuation\n",
    "        word = word.strip('.,!?;:\"')\n",
    "        if word:\n",
    "            frequency[word] = frequency.get(word, 0) + 1\n",
    "    \n",
    "    return frequency\n",
    "\n",
    "def get_most_common_words(frequency_dict, n=5):\n",
    "    \"\"\"Get n most common words\"\"\"\n",
    "    sorted_words = sorted(frequency_dict.items(), key=lambda x: x[1], reverse=True)\n",
    "    return sorted_words[:n]\n",
    "\n",
    "# Example usage\n",
    "text = \"\"\"\n",
    "Python is an amazing programming language. Python is easy to learn and \n",
    "Python is powerful. Many developers love Python because Python has \n",
    "clear syntax and Python has great community support.\n",
    "\"\"\"\n",
    "\n",
    "frequency = count_word_frequency(text)\n",
    "common_words = get_most_common_words(frequency, 3)\n",
    "\n",
    "print(\"Word Frequency:\")\n",
    "for word, count in frequency.items():\n",
    "    print(f\"{word}: {count}\")\n",
    "\n",
    "print(\"\\nMost Common Words:\")\n",
    "for word, count in common_words:\n",
    "    print(f\"{word}: {count}\")"
   ]
  },
  {
   "cell_type": "markdown",
   "id": "ff365afa",
   "metadata": {},
   "source": [
    "🔄 Nested Dictionaries\n",
    "\n",
    "Working with Nested Dictionaries"
   ]
  },
  {
   "cell_type": "code",
   "execution_count": null,
   "id": "bccc3543",
   "metadata": {},
   "outputs": [],
   "source": [
    "# Company organizational structure\n",
    "company = {\n",
    "    \"engineering\": {\n",
    "        \"manager\": \"Alice\",\n",
    "        \"employees\": {\n",
    "            \"E001\": {\"name\": \"Bob\", \"position\": \"Developer\", \"salary\": 80000},\n",
    "            \"E002\": {\"name\": \"Charlie\", \"position\": \"Designer\", \"salary\": 75000}\n",
    "        },\n",
    "        \"budget\": 500000\n",
    "    },\n",
    "    \"marketing\": {\n",
    "        \"manager\": \"Diana\",\n",
    "        \"employees\": {\n",
    "            \"M001\": {\"name\": \"Eve\", \"position\": \"Analyst\", \"salary\": 60000},\n",
    "            \"M002\": {\"name\": \"Frank\", \"position\": \"Coordinator\", \"salary\": 55000}\n",
    "        },\n",
    "        \"budget\": 200000\n",
    "    }\n",
    "}\n",
    "\n",
    "def get_department_info(company, department):\n",
    "    \"\"\"Get information about a department\"\"\"\n",
    "    if department not in company:\n",
    "        return \"Department not found\"\n",
    "    \n",
    "    dept = company[department]\n",
    "    employee_count = len(dept[\"employees\"])\n",
    "    total_salary = sum(emp[\"salary\"] for emp in dept[\"employees\"].values())\n",
    "    \n",
    "    return {\n",
    "        \"manager\": dept[\"manager\"],\n",
    "        \"employee_count\": employee_count,\n",
    "        \"total_salary\": total_salary,\n",
    "        \"budget\": dept[\"budget\"]\n",
    "    }\n",
    "\n",
    "def find_employee(company, employee_id):\n",
    "    \"\"\"Find employee across all departments\"\"\"\n",
    "    for dept_name, dept_info in company.items():\n",
    "        if employee_id in dept_info[\"employees\"]:\n",
    "            employee = dept_info[\"employees\"][employee_id]\n",
    "            return {\n",
    "                \"name\": employee[\"name\"],\n",
    "                \"position\": employee[\"position\"],\n",
    "                \"department\": dept_name,\n",
    "                \"manager\": dept_info[\"manager\"]\n",
    "            }\n",
    "    return \"Employee not found\"\n",
    "\n",
    "# Usage\n",
    "eng_info = get_department_info(company, \"engineering\")\n",
    "employee = find_employee(company, \"E001\")\n",
    "\n",
    "print(\"Engineering Department:\", eng_info)\n",
    "print(\"Employee E001:\", employee)"
   ]
  },
  {
   "cell_type": "markdown",
   "id": "40ba9064",
   "metadata": {},
   "source": [
    "🎪 Advanced Dictionary Operations\n",
    "\n",
    "Merging Dictionaries"
   ]
  },
  {
   "cell_type": "code",
   "execution_count": null,
   "id": "151df442",
   "metadata": {},
   "outputs": [],
   "source": [
    "# Different ways to merge dictionaries\n",
    "dict1 = {\"a\": 1, \"b\": 2}\n",
    "dict2 = {\"b\": 3, \"c\": 4}  # Note: key 'b' exists in both\n",
    "\n",
    "# update() method (modifies original)\n",
    "dict1.update(dict2)\n",
    "print(dict1)  # {'a': 1, 'b': 3, 'c': 4}\n",
    "\n",
    "# Using ** unpacking (Python 3.5+)\n",
    "dict1 = {\"a\": 1, \"b\": 2}\n",
    "dict2 = {\"b\": 3, \"c\": 4}\n",
    "merged = {**dict1, **dict2}\n",
    "print(merged)  # {'a': 1, 'b': 3, 'c': 4}\n",
    "\n",
    "# Using | operator (Python 3.9+)\n",
    "dict1 = {\"a\": 1, \"b\": 2}\n",
    "dict2 = {\"b\": 3, \"c\": 4}\n",
    "merged = dict1 | dict2\n",
    "print(merged)  # {'a': 1, 'b': 3, 'c': 4}"
   ]
  },
  {
   "cell_type": "markdown",
   "id": "11ac951e",
   "metadata": {},
   "source": [
    "Dictionary Views"
   ]
  },
  {
   "cell_type": "code",
   "execution_count": null,
   "id": "f48d516d",
   "metadata": {},
   "outputs": [],
   "source": [
    "person = {\"name\": \"Alice\", \"age\": 25, \"city\": \"New York\"}\n",
    "\n",
    "# Dictionary views are dynamic\n",
    "keys_view = person.keys()\n",
    "values_view = person.values()\n",
    "items_view = person.items()\n",
    "\n",
    "print(\"Original:\", list(keys_view))  # ['name', 'age', 'city']\n",
    "\n",
    "# Views update when dictionary changes\n",
    "person[\"country\"] = \"USA\"\n",
    "print(\"After update:\", list(keys_view))  # ['name', 'age', 'city', 'country']\n",
    "\n",
    "# Views support set operations\n",
    "person2 = {\"name\": \"Bob\", \"age\": 30, \"job\": \"Engineer\"}\n",
    "common_keys = person.keys() & person2.keys()\n",
    "print(\"Common keys:\", common_keys)  # {'name', 'age'}"
   ]
  },
  {
   "cell_type": "markdown",
   "id": "9a49b0d4",
   "metadata": {},
   "source": [
    "📚 Summary\n",
    "\n",
    "Key Characteristics:\n",
    "\n",
    "✅ Unordered: No guaranteed order (though insertion order preserved in Python 3.7+)\n",
    "\n",
    "✅ Mutable: Can be modified after creation\n",
    "\n",
    "✅ Key-Value Pairs: Store data as key: value pairs\n",
    "\n",
    "✅ Keys must be hashable: Strings, numbers, tuples (if immutable)\n",
    "\n",
    "✅ Fast lookups: Optimized for retrieving values by key\n",
    "\n",
    "Common Methods:\n",
    "Access: dict[key], get(), setdefault()\n",
    "\n",
    "Modify: update(), pop(), popitem(), clear()\n",
    "\n",
    "Views: keys(), values(), items()\n",
    "\n",
    "Copy: copy()\n",
    "\n",
    "When to Use Dictionaries:\n",
    "Fast lookups by key\n",
    "\n",
    "Structured data with named fields\n",
    "\n",
    "Configuration settings\n",
    "\n",
    "Counting and frequency analysis\n",
    "\n",
    "JSON-like data structures\n",
    "\n",
    "Best Practices:\n",
    "Use descriptive keys\n",
    "\n",
    "Use get() for safe access\n",
    "\n",
    "Prefer dictionary comprehensions for creation\n",
    "\n",
    "Use views for efficient iteration\n",
    "\n",
    "Consider defaultdict or Counter from collections module for special cases"
   ]
  }
 ],
 "metadata": {
  "kernelspec": {
   "display_name": "base",
   "language": "python",
   "name": "python3"
  },
  "language_info": {
   "name": "python",
   "version": "3.12.7"
  }
 },
 "nbformat": 4,
 "nbformat_minor": 5
}
