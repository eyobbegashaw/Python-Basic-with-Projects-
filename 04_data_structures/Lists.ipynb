{
 "cells": [
  {
   "cell_type": "markdown",
   "id": "d5ac2101",
   "metadata": {},
   "source": [
    "<h4 style=\"color:green\">Python Lists</h4>"
   ]
  },
  {
   "cell_type": "markdown",
   "id": "75916d70",
   "metadata": {},
   "source": [
    "📝 What are Lists?\n",
    "\n",
    "Lists are ordered, mutable collections that can hold items of different data types. They are one of Python's most versatile data structures."
   ]
  },
  {
   "cell_type": "code",
   "execution_count": null,
   "id": "8c415a2f",
   "metadata": {},
   "outputs": [],
   "source": [
    "# Creating lists\n",
    "empty_list = []\n",
    "numbers = [1, 2, 3, 4, 5]\n",
    "fruits = [\"apple\", \"banana\", \"cherry\"]\n",
    "mixed = [1, \"hello\", 3.14, True]"
   ]
  },
  {
   "cell_type": "markdown",
   "id": "0ede4064",
   "metadata": {},
   "source": [
    "🎯 Creating Lists\n",
    "\n",
    "Different Ways to Create Lists"
   ]
  },
  {
   "cell_type": "code",
   "execution_count": null,
   "id": "45a3d68c",
   "metadata": {},
   "outputs": [],
   "source": [
    "# Empty list\n",
    "empty = []\n",
    "empty2 = list()\n",
    "\n",
    "# List with elements\n",
    "numbers = [1, 2, 3, 4, 5]\n",
    "colors = [\"red\", \"green\", \"blue\"]\n",
    "\n",
    "# Using list() constructor\n",
    "from_string = list(\"hello\")  # ['h', 'e', 'l', 'l', 'o']\n",
    "from_range = list(range(5))  # [0, 1, 2, 3, 4]\n",
    "from_tuple = list((1, 2, 3)) # [1, 2, 3]\n",
    "\n",
    "print(from_string)  # ['h', 'e', 'l', 'l', 'o']\n",
    "print(from_range)   # [0, 1, 2, 3, 4]"
   ]
  },
  {
   "cell_type": "markdown",
   "id": "0e189078",
   "metadata": {},
   "source": [
    "🔍 Accessing List Elements\n",
    "\n",
    "Indexing"
   ]
  },
  {
   "cell_type": "code",
   "execution_count": null,
   "id": "087a2809",
   "metadata": {},
   "outputs": [],
   "source": [
    "fruits = [\"apple\", \"banana\", \"cherry\", \"date\", \"elderberry\"]\n",
    "\n",
    "# Positive indexing (from start)\n",
    "print(fruits[0])   # \"apple\" - first element\n",
    "print(fruits[1])   # \"banana\" - second element\n",
    "print(fruits[2])   # \"cherry\" - third element\n",
    "\n",
    "# Negative indexing (from end)\n",
    "print(fruits[-1])  # \"elderberry\" - last element\n",
    "print(fruits[-2])  # \"date\" - second last\n",
    "print(fruits[-3])  # \"cherry\" - third from end"
   ]
  },
  {
   "cell_type": "markdown",
   "id": "79d4441c",
   "metadata": {},
   "source": [
    "Slicing"
   ]
  },
  {
   "cell_type": "code",
   "execution_count": null,
   "id": "fab05418",
   "metadata": {},
   "outputs": [],
   "source": [
    "numbers = [0, 1, 2, 3, 4, 5, 6, 7, 8, 9]\n",
    "\n",
    "# Basic slicing: list[start:stop:step]\n",
    "print(numbers[2:5])    # [2, 3, 4] - index 2 to 4\n",
    "print(numbers[:4])     # [0, 1, 2, 3] - start to index 3\n",
    "print(numbers[5:])     # [5, 6, 7, 8, 9] - index 5 to end\n",
    "print(numbers[::2])    # [0, 2, 4, 6, 8] - every 2nd element\n",
    "print(numbers[::-1])   # [9, 8, 7, 6, 5, 4, 3, 2, 1, 0] - reverse"
   ]
  },
  {
   "cell_type": "markdown",
   "id": "1f1b6326",
   "metadata": {},
   "source": [
    "✏️ Modifying Lists\n",
    "\n",
    "Changing Elements"
   ]
  },
  {
   "cell_type": "code",
   "execution_count": null,
   "id": "90338794",
   "metadata": {},
   "outputs": [],
   "source": [
    "fruits = [\"apple\", \"banana\", \"cherry\"]\n",
    "\n",
    "# Modify single element\n",
    "fruits[1] = \"blueberry\"\n",
    "print(fruits)  # ['apple', 'blueberry', 'cherry']\n",
    "\n",
    "# Modify slice\n",
    "fruits[0:2] = [\"apricot\", \"blackberry\"]\n",
    "print(fruits)  # ['apricot', 'blackberry', 'cherry']"
   ]
  },
  {
   "cell_type": "markdown",
   "id": "70cd6bc0",
   "metadata": {},
   "source": [
    "Adding Elements"
   ]
  },
  {
   "cell_type": "code",
   "execution_count": null,
   "id": "4c61ed2d",
   "metadata": {},
   "outputs": [],
   "source": [
    "colors = [\"red\", \"green\"]\n",
    "\n",
    "# append() - add to end\n",
    "colors.append(\"blue\")\n",
    "print(colors)  # ['red', 'green', 'blue']\n",
    "\n",
    "# insert() - add at specific position\n",
    "colors.insert(1, \"yellow\")\n",
    "print(colors)  # ['red', 'yellow', 'green', 'blue']\n",
    "\n",
    "# extend() - add multiple elements\n",
    "colors.extend([\"purple\", \"orange\"])\n",
    "print(colors)  # ['red', 'yellow', 'green', 'blue', 'purple', 'orange']\n",
    "\n",
    "# Using + operator\n",
    "new_colors = colors + [\"pink\", \"brown\"]\n",
    "print(new_colors)  # Combined list"
   ]
  },
  {
   "cell_type": "markdown",
   "id": "f80f73df",
   "metadata": {},
   "source": [
    "Removing Elements"
   ]
  },
  {
   "cell_type": "code",
   "execution_count": null,
   "id": "04d94910",
   "metadata": {},
   "outputs": [],
   "source": [
    "numbers = [1, 2, 3, 4, 5, 3, 6, 3]\n",
    "\n",
    "# remove() - remove first occurrence\n",
    "numbers.remove(3)\n",
    "print(numbers)  # [1, 2, 4, 5, 3, 6, 3]\n",
    "\n",
    "# pop() - remove by index (returns removed element)\n",
    "removed = numbers.pop(2)\n",
    "print(f\"Removed: {removed}\")  # Removed: 4\n",
    "print(numbers)  # [1, 2, 5, 3, 6, 3]\n",
    "\n",
    "# pop() without index - remove last element\n",
    "last = numbers.pop()\n",
    "print(f\"Last: {last}\")  # Last: 3\n",
    "print(numbers)  # [1, 2, 5, 3, 6]\n",
    "\n",
    "# del statement\n",
    "del numbers[1]\n",
    "print(numbers)  # [1, 5, 3, 6]\n",
    "\n",
    "# clear() - remove all elements\n",
    "numbers.clear()\n",
    "print(numbers)  # []"
   ]
  },
  {
   "cell_type": "markdown",
   "id": "0cdd30f5",
   "metadata": {},
   "source": [
    "🔧 List Methods\n",
    "\n",
    "Common List Methods"
   ]
  },
  {
   "cell_type": "code",
   "execution_count": null,
   "id": "4c0f1d9e",
   "metadata": {},
   "outputs": [],
   "source": [
    "fruits = [\"apple\", \"banana\", \"cherry\", \"banana\", \"date\"]\n",
    "\n",
    "# count() - count occurrences\n",
    "print(fruits.count(\"banana\"))  # 2\n",
    "\n",
    "# index() - find first occurrence index\n",
    "print(fruits.index(\"cherry\"))  # 2\n",
    "\n",
    "# copy() - create shallow copy\n",
    "fruits_copy = fruits.copy()\n",
    "print(fruits_copy)  # ['apple', 'banana', 'cherry', 'banana', 'date']\n",
    "\n",
    "# reverse() - reverse list in place\n",
    "fruits.reverse()\n",
    "print(fruits)  # ['date', 'banana', 'cherry', 'banana', 'apple']"
   ]
  },
  {
   "cell_type": "markdown",
   "id": "02887bbe",
   "metadata": {},
   "source": [
    "Sorting"
   ]
  },
  {
   "cell_type": "code",
   "execution_count": null,
   "id": "3e26e5a4",
   "metadata": {},
   "outputs": [],
   "source": [
    "numbers = [5, 2, 8, 1, 9]\n",
    "words = [\"banana\", \"apple\", \"date\", \"cherry\"]\n",
    "\n",
    "# sort() - sort in place\n",
    "numbers.sort()\n",
    "print(numbers)  # [1, 2, 5, 8, 9]\n",
    "\n",
    "words.sort()\n",
    "print(words)  # ['apple', 'banana', 'cherry', 'date']\n",
    "\n",
    "# sort in reverse\n",
    "numbers.sort(reverse=True)\n",
    "print(numbers)  # [9, 8, 5, 2, 1]\n",
    "\n",
    "# sorted() - returns new sorted list\n",
    "unsorted = [3, 1, 4, 2]\n",
    "sorted_list = sorted(unsorted)\n",
    "print(f\"Original: {unsorted}\")  # [3, 1, 4, 2]\n",
    "print(f\"Sorted: {sorted_list}\") # [1, 2, 3, 4]"
   ]
  },
  {
   "cell_type": "markdown",
   "id": "42385a3d",
   "metadata": {},
   "source": [
    "🔍 List Operations\n",
    "\n",
    "Membership Testing"
   ]
  },
  {
   "cell_type": "code",
   "execution_count": null,
   "id": "e34a5c08",
   "metadata": {},
   "outputs": [],
   "source": [
    "fruits = [\"apple\", \"banana\", \"cherry\"]\n",
    "\n",
    "# in operator\n",
    "print(\"apple\" in fruits)    # True\n",
    "print(\"grape\" in fruits)    # False\n",
    "print(\"apple\" not in fruits) # False\n",
    "\n",
    "# Practical use\n",
    "if \"banana\" in fruits:\n",
    "    print(\"We have bananas!\")  # This will print"
   ]
  },
  {
   "cell_type": "markdown",
   "id": "e3e39644",
   "metadata": {},
   "source": [
    "List Concatenation and Repetition"
   ]
  },
  {
   "cell_type": "code",
   "execution_count": null,
   "id": "7d33fbe1",
   "metadata": {},
   "outputs": [],
   "source": [
    "list1 = [1, 2, 3]\n",
    "list2 = [4, 5, 6]\n",
    "\n",
    "# Concatenation\n",
    "combined = list1 + list2\n",
    "print(combined)  # [1, 2, 3, 4, 5, 6]\n",
    "\n",
    "# Repetition\n",
    "repeated = list1 * 3\n",
    "print(repeated)  # [1, 2, 3, 1, 2, 3, 1, 2, 3]"
   ]
  },
  {
   "cell_type": "markdown",
   "id": "810f9d83",
   "metadata": {},
   "source": [
    "📊 List Comprehensions\n",
    "\n",
    "Basic List Comprehensions"
   ]
  },
  {
   "cell_type": "code",
   "execution_count": null,
   "id": "4263a7a5",
   "metadata": {},
   "outputs": [],
   "source": [
    "# Traditional way\n",
    "squares = []\n",
    "for i in range(5):\n",
    "    squares.append(i ** 2)\n",
    "print(squares)  # [0, 1, 4, 9, 16]\n",
    "\n",
    "# List comprehension way\n",
    "squares = [i ** 2 for i in range(5)]\n",
    "print(squares)  # [0, 1, 4, 9, 16]"
   ]
  },
  {
   "cell_type": "markdown",
   "id": "2b67520d",
   "metadata": {},
   "source": [
    "Comprehensions with Conditions"
   ]
  },
  {
   "cell_type": "code",
   "execution_count": null,
   "id": "5c05da09",
   "metadata": {},
   "outputs": [],
   "source": [
    "numbers = [1, 2, 3, 4, 5, 6, 7, 8, 9, 10]\n",
    "\n",
    "# Even numbers only\n",
    "evens = [x for x in numbers if x % 2 == 0]\n",
    "print(evens)  # [2, 4, 6, 8, 10]\n",
    "\n",
    "# Squares of odd numbers\n",
    "odd_squares = [x ** 2 for x in numbers if x % 2 != 0]\n",
    "print(odd_squares)  # [1, 9, 25, 49, 81]\n",
    "\n",
    "# Conditional transformation\n",
    "grades = [85, 92, 78, 90, 65, 88]\n",
    "passed = [\"Pass\" if score >= 70 else \"Fail\" for score in grades]\n",
    "print(passed)  # ['Pass', 'Pass', 'Pass', 'Pass', 'Fail', 'Pass']"
   ]
  },
  {
   "cell_type": "markdown",
   "id": "a7e244df",
   "metadata": {},
   "source": [
    "💡 Practical Examples\n",
    "\n",
    "1. Shopping Cart System"
   ]
  },
  {
   "cell_type": "code",
   "execution_count": null,
   "id": "101301dd",
   "metadata": {},
   "outputs": [],
   "source": [
    "# Shopping cart using lists\n",
    "cart = []\n",
    "\n",
    "def add_to_cart(item, price, quantity=1):\n",
    "    \"\"\"Add item to shopping cart\"\"\"\n",
    "    cart.append({\n",
    "        \"item\": item,\n",
    "        \"price\": price,\n",
    "        \"quantity\": quantity,\n",
    "        \"total\": price * quantity\n",
    "    })\n",
    "\n",
    "def view_cart():\n",
    "    \"\"\"Display shopping cart\"\"\"\n",
    "    if not cart:\n",
    "        print(\"Cart is empty!\")\n",
    "        return\n",
    "    \n",
    "    print(\"\\n🛒 Shopping Cart:\")\n",
    "    print(\"-\" * 40)\n",
    "    total_amount = 0\n",
    "    \n",
    "    for i, item in enumerate(cart, 1):\n",
    "        print(f\"{i}. {item['item']:15} ${item['price']:6.2f} x {item['quantity']:2} = ${item['total']:6.2f}\")\n",
    "        total_amount += item['total']\n",
    "    \n",
    "    print(\"-\" * 40)\n",
    "    print(f\"Total: ${total_amount:.2f}\")\n",
    "\n",
    "# Usage\n",
    "add_to_cart(\"Laptop\", 999.99, 1)\n",
    "add_to_cart(\"Mouse\", 25.50, 2)\n",
    "add_to_cart(\"Keyboard\", 75.00, 1)\n",
    "\n",
    "view_cart()"
   ]
  },
  {
   "cell_type": "markdown",
   "id": "4ec8800e",
   "metadata": {},
   "source": [
    "2. Student Grade Management"
   ]
  },
  {
   "cell_type": "code",
   "execution_count": null,
   "id": "f67882d8",
   "metadata": {},
   "outputs": [],
   "source": [
    "# Student grade management system\n",
    "students = []\n",
    "\n",
    "def add_student(name, grades):\n",
    "    \"\"\"Add student with grades\"\"\"\n",
    "    average = sum(grades) / len(grades) if grades else 0\n",
    "    \n",
    "    students.append({\n",
    "        \"name\": name,\n",
    "        \"grades\": grades,\n",
    "        \"average\": average,\n",
    "        \"status\": \"Pass\" if average >= 70 else \"Fail\"\n",
    "    })\n",
    "\n",
    "def get_top_students(limit=3):\n",
    "    \"\"\"Get top performing students\"\"\"\n",
    "    sorted_students = sorted(students, key=lambda x: x['average'], reverse=True)\n",
    "    return sorted_students[:limit]\n",
    "\n",
    "def get_class_average():\n",
    "    \"\"\"Calculate class average\"\"\"\n",
    "    if not students:\n",
    "        return 0\n",
    "    total_avg = sum(student['average'] for student in students)\n",
    "    return total_avg / len(students)\n",
    "\n",
    "# Add students\n",
    "add_student(\"Alice\", [85, 92, 78, 90])\n",
    "add_student(\"Bob\", [65, 70, 75, 80])\n",
    "add_student(\"Charlie\", [95, 88, 92, 96])\n",
    "\n",
    "# Display results\n",
    "print(\"Top Students:\")\n",
    "for student in get_top_students():\n",
    "    print(f\"{student['name']}: {student['average']:.1f} - {student['status']}\")\n",
    "\n",
    "print(f\"\\nClass Average: {get_class_average():.1f}\")"
   ]
  },
  {
   "cell_type": "markdown",
   "id": "3665ee60",
   "metadata": {},
   "source": [
    "🔄 Nested Lists\n",
    "\n",
    "Working with 2D Lists"
   ]
  },
  {
   "cell_type": "code",
   "execution_count": null,
   "id": "1c2a6e9c",
   "metadata": {},
   "outputs": [],
   "source": [
    "# 2D list (matrix)\n",
    "matrix = [\n",
    "    [1, 2, 3],\n",
    "    [4, 5, 6],\n",
    "    [7, 8, 9]\n",
    "]\n",
    "\n",
    "# Accessing elements\n",
    "print(matrix[0][1])    # 2 (row 0, column 1)\n",
    "print(matrix[2][0])    # 7 (row 2, column 0)\n",
    "\n",
    "# Iterating through 2D list\n",
    "print(\"Matrix:\")\n",
    "for row in matrix:\n",
    "    for element in row:\n",
    "        print(element, end=\" \")\n",
    "    print()  # New line after each row\n",
    "\n",
    "# Output:\n",
    "# 1 2 3\n",
    "# 4 5 6\n",
    "# 7 8 9\n",
    "\n",
    "# List comprehension with nested lists\n",
    "flattened = [element for row in matrix for element in row]\n",
    "print(f\"Flattened: {flattened}\")  # [1, 2, 3, 4, 5, 6, 7, 8, 9]"
   ]
  },
  {
   "cell_type": "markdown",
   "id": "e321f9c8",
   "metadata": {},
   "source": [
    "📚 Summary\n",
    "\n",
    "Key Characteristics:\n",
    "\n",
    "✅ Ordered: Elements maintain their position\n",
    "\n",
    "✅ Mutable: Can be changed after creation\n",
    "\n",
    "✅ Indexed: Access elements by position\n",
    "\n",
    "✅ Heterogeneous: Can hold different data types\n",
    "\n",
    "✅ Dynamic: Can grow and shrink as needed\n",
    "\n",
    "Common Methods:\n",
    "Add: append(), insert(), extend()\n",
    "\n",
    "Remove: remove(), pop(), clear()\n",
    "\n",
    "Search: index(), count()\n",
    "\n",
    "Organize: sort(), reverse(), copy()\n",
    "\n",
    "Important Operations:\n",
    "Slicing: list[start:stop:step]\n",
    "\n",
    "Membership: in, not in\n",
    "\n",
    "Concatenation: +\n",
    "\n",
    "Repetition: *\n",
    "\n",
    "Best Practices:\n",
    "Use list comprehensions for concise code\n",
    "\n",
    "Prefer append() over + for adding single items\n",
    "\n",
    "Use copy() to avoid unintended mutations\n",
    "\n",
    "Consider using tuples for immutable sequences"
   ]
  }
 ],
 "metadata": {
  "kernelspec": {
   "display_name": "base",
   "language": "python",
   "name": "python3"
  },
  "language_info": {
   "name": "python",
   "version": "3.12.7"
  }
 },
 "nbformat": 4,
 "nbformat_minor": 5
}
