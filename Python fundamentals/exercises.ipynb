{
 "cells": [
  {
   "cell_type": "markdown",
   "id": "93064c16",
   "metadata": {},
   "source": [
    "<h4 style=\"color:green\">Python Exercises with Solutions</h4>"
   ]
  },
  {
   "cell_type": "markdown",
   "id": "142995ae",
   "metadata": {},
   "source": [
    "📝 Exercise Set 1: Variables & Data Types"
   ]
  },
  {
   "cell_type": "markdown",
   "id": "b8f08a2f",
   "metadata": {},
   "source": [
    "Problem 1: Create variables to store student information and display it."
   ]
  },
  {
   "cell_type": "markdown",
   "id": "c43699f8",
   "metadata": {},
   "source": [
    "Problem 2: Convert between different data types and observe the results."
   ]
  },
  {
   "cell_type": "markdown",
   "id": "7cc48c11",
   "metadata": {},
   "source": [
    "Problem 3: Use multiple assignment to swap variable values."
   ]
  },
  {
   "cell_type": "markdown",
   "id": "a7db0efb",
   "metadata": {},
   "source": [
    "🧮 Exercise Set 2: Operators"
   ]
  },
  {
   "cell_type": "markdown",
   "id": "5e47dcd0",
   "metadata": {},
   "source": [
    "Problem 1: Perform various arithmetic operations on two numbers."
   ]
  },
  {
   "cell_type": "markdown",
   "id": "882e74b2",
   "metadata": {},
   "source": [
    "Problem 2: Use comparison and logical operators to make decisions."
   ]
  },
  {
   "cell_type": "markdown",
   "id": "9daf7115",
   "metadata": {},
   "source": [
    "Problem 3: Use compound operators to update values"
   ]
  },
  {
   "cell_type": "markdown",
   "id": "bc6bb5de",
   "metadata": {},
   "source": [
    "⌨️ Exercise Set 3: Input/Output"
   ]
  },
  {
   "cell_type": "markdown",
   "id": "0d104cc0",
   "metadata": {},
   "source": [
    "Problem 1: Create a program that collects and displays personal information."
   ]
  },
  {
   "cell_type": "markdown",
   "id": "2f8f3c32",
   "metadata": {},
   "source": [
    "Problem 2: Create an interactive calculator with formatted output."
   ]
  },
  {
   "cell_type": "markdown",
   "id": "8686bf80",
   "metadata": {},
   "source": [
    "Problem 3: Create a program that generates a shopping receipt."
   ]
  },
  {
   "cell_type": "markdown",
   "id": "1763ac27",
   "metadata": {},
   "source": [
    "📚 Learning Objectives Covered\n",
    "\n",
    "\n",
    "✅ Variable declaration and data types\n",
    "\n",
    "✅ Type conversion and multiple assignment\n",
    "\n",
    "✅ Arithmetic, comparison, and logical operators\n",
    "\n",
    "✅ Compound assignment operators\n",
    "\n",
    "✅ User input handling and validation\n",
    "\n",
    "✅ Formatted output with f-strings\n",
    "\n",
    "✅ Practical application development"
   ]
  }
 ],
 "metadata": {
  "language_info": {
   "name": "python"
  }
 },
 "nbformat": 4,
 "nbformat_minor": 5
}
