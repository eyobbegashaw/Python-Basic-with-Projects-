{
 "cells": [
  {
   "cell_type": "markdown",
   "id": "e49aa348",
   "metadata": {},
   "source": [
    "📝 What are Variables?"
   ]
  },
  {
   "cell_type": "markdown",
   "id": "cd70ebcf",
   "metadata": {},
   "source": [
    "<p style=\"font-family:\">Variables are containers for storing data values. Think of them as labeled boxes where you can store information.</p>"
   ]
  },
  {
   "cell_type": "code",
   "execution_count": null,
   "id": "ff194faf",
   "metadata": {},
   "outputs": [],
   "source": [
    "# Variable assignment\n",
    "name = \"John\"\n",
    "age = 25\n",
    "height = 5.9\n",
    "is_student = True"
   ]
  },
  {
   "cell_type": "markdown",
   "id": "98fba38b",
   "metadata": {},
   "source": [
    "🔤 Variable Naming Rules"
   ]
  },
  {
   "cell_type": "code",
   "execution_count": 1,
   "id": "c76fe2be",
   "metadata": {},
   "outputs": [],
   "source": [
    "# Valid variable names\n",
    "first_name = \"Alice\"\n",
    "last_name = \"Smith\"\n",
    "age2 = 30\n",
    "_country = \"USA\"\n",
    "\n",
    "# Invalid variable names (will cause errors)\n",
    "# 2nd_name = \"Bob\"    # Cannot start with number\n",
    "# my-name = \"Charlie\" # No hyphens allowed\n",
    "# class = \"Math\"      # Cannot use reserved keywords"
   ]
  },
  {
   "cell_type": "markdown",
   "id": "21c45da5",
   "metadata": {},
   "source": [
    "📊 Basic Data Types"
   ]
  },
  {
   "cell_type": "markdown",
   "id": "c02eaa3d",
   "metadata": {},
   "source": [
    "1. Strings (str) - Text data"
   ]
  },
  {
   "cell_type": "code",
   "execution_count": null,
   "id": "a2230407",
   "metadata": {},
   "outputs": [],
   "source": [
    "# String examples\n",
    "name = \"Alice\"\n",
    "message = 'Hello World'\n",
    "multiline_string = \"\"\"This is a\n",
    "multi-line string\"\"\"\n",
    "\n",
    "# String operations\n",
    "print(name.upper())        # ALICE\n",
    "print(message.lower())     # hello world\n",
    "print(len(name))           # 5 (length)\n",
    "print(\"Hello \" + name)     # Hello Alice (concatenation)"
   ]
  },
  {
   "cell_type": "markdown",
   "id": "4361b44b",
   "metadata": {},
   "source": [
    "2. Integers (int) - Whole numbers"
   ]
  },
  {
   "cell_type": "code",
   "execution_count": null,
   "id": "755a7d4c",
   "metadata": {},
   "outputs": [],
   "source": [
    "# Integer examples\n",
    "age = 25\n",
    "temperature = -10\n",
    "population = 8000000\n",
    "\n",
    "# Integer operations\n",
    "x = 10\n",
    "y = 3\n",
    "print(x + y)   # 13 (addition)\n",
    "print(x - y)   # 7 (subtraction)\n",
    "print(x * y)   # 30 (multiplication)\n",
    "print(x / y)   # 3.333... (division)\n",
    "print(x // y)  # 3 (floor division)\n",
    "print(x % y)   # 1 (modulus - remainder)\n",
    "print(x ** y)  # 1000 (exponentiation)"
   ]
  },
  {
   "cell_type": "markdown",
   "id": "894bf3b9",
   "metadata": {},
   "source": [
    "3. Floats (float) - Decimal numbers"
   ]
  },
  {
   "cell_type": "code",
   "execution_count": null,
   "id": "897347ad",
   "metadata": {},
   "outputs": [],
   "source": [
    "# Float examples\n",
    "price = 19.99\n",
    "pi = 3.14159\n",
    "temperature = 98.6\n",
    "\n",
    "# Float operations\n",
    "a = 5.5\n",
    "b = 2.0\n",
    "print(a + b)   # 7.5\n",
    "print(a * b)   # 11.0\n",
    "print(a / b)   # 2.75"
   ]
  },
  {
   "cell_type": "markdown",
   "id": "e24b95a8",
   "metadata": {},
   "source": [
    "4. Booleans (bool) - True/False values"
   ]
  },
  {
   "cell_type": "code",
   "execution_count": null,
   "id": "982e6761",
   "metadata": {},
   "outputs": [],
   "source": [
    "# Boolean examples\n",
    "is_sunny = True\n",
    "is_raining = False\n",
    "is_adult = age >= 18  # This will be True or False\n",
    "\n",
    "# Boolean operations\n",
    "print(True and False)   # False\n",
    "print(True or False)    # True\n",
    "print(not True)         # False"
   ]
  },
  {
   "cell_type": "markdown",
   "id": "48e6d595",
   "metadata": {},
   "source": [
    "🔍 Checking Data Types"
   ]
  },
  {
   "cell_type": "code",
   "execution_count": null,
   "id": "bf8e22d7",
   "metadata": {},
   "outputs": [],
   "source": [
    "# Using type() function\n",
    "name = \"Alice\"\n",
    "age = 25\n",
    "price = 19.99\n",
    "is_valid = True\n",
    "\n",
    "print(type(name))     # <class 'str'>\n",
    "print(type(age))      # <class 'int'>\n",
    "print(type(price))    # <class 'float'>\n",
    "print(type(is_valid)) # <class 'bool'>"
   ]
  },
  {
   "cell_type": "markdown",
   "id": "8e2b2e0c",
   "metadata": {},
   "source": [
    "🔄 Type Conversion"
   ]
  },
  {
   "cell_type": "code",
   "execution_count": null,
   "id": "2ecfdd8d",
   "metadata": {},
   "outputs": [],
   "source": [
    "# Converting between types\n",
    "number_str = \"123\"\n",
    "number_int = int(number_str)    # Convert to integer\n",
    "number_float = float(number_str) # Convert to float\n",
    "\n",
    "text = str(456)        # Convert to string \"456\"\n",
    "bool_value = bool(1)   # Convert to boolean True\n",
    "\n",
    "print(number_int)      # 123 (as integer)\n",
    "print(number_float)    # 123.0 (as float)\n",
    "print(text)            # \"456\" (as string)"
   ]
  },
  {
   "cell_type": "markdown",
   "id": "9664b803",
   "metadata": {},
   "source": [
    "🎯 Variable Reassignment"
   ]
  },
  {
   "cell_type": "code",
   "execution_count": null,
   "id": "6bc81037",
   "metadata": {},
   "outputs": [],
   "source": [
    "# Variables can be reassigned\n",
    "score = 10\n",
    "print(score)  # 10\n",
    "\n",
    "score = 20    # Reassigning\n",
    "print(score)  # 20\n",
    "\n",
    "# Changing data type is allowed (but not recommended)\n",
    "value = 100\n",
    "print(type(value))  # <class 'int'>\n",
    "\n",
    "value = \"Hello\"\n",
    "print(type(value))  # <class 'str'>"
   ]
  },
  {
   "cell_type": "markdown",
   "id": "03207cba",
   "metadata": {},
   "source": [
    "💡 Multiple Assignment"
   ]
  },
  {
   "cell_type": "code",
   "execution_count": null,
   "id": "297c4e1c",
   "metadata": {},
   "outputs": [],
   "source": [
    "# Assign multiple variables at once\n",
    "x, y, z = 10, 20, 30\n",
    "name, age, city = \"Bob\", 30, \"London\"\n",
    "\n",
    "print(x)     # 10\n",
    "print(name)  # Bob\n",
    "print(age)   # 30"
   ]
  },
  {
   "cell_type": "markdown",
   "id": "fcc9ba38",
   "metadata": {},
   "source": [
    "🏆 Best Practices"
   ]
  },
  {
   "cell_type": "code",
   "execution_count": null,
   "id": "6f162f22",
   "metadata": {},
   "outputs": [],
   "source": [
    "# Good variable names\n",
    "user_name = \"Alice\"\n",
    "item_count = 5\n",
    "is_logged_in = True\n",
    "\n",
    "# Bad variable names (avoid these)\n",
    "a = \"Alice\"      # Not descriptive\n",
    "n = 5            # Unclear meaning\n",
    "x = True         # What does this represent?"
   ]
  },
  {
   "cell_type": "markdown",
   "id": "82582bec",
   "metadata": {},
   "source": [
    "🧪 Practice Examples"
   ]
  },
  {
   "cell_type": "code",
   "execution_count": null,
   "id": "cae6c482",
   "metadata": {},
   "outputs": [],
   "source": [
    "# Example 1: Personal Information\n",
    "first_name = \"John\"\n",
    "last_name = \"Doe\"\n",
    "age = 30\n",
    "height = 5.11\n",
    "is_employed = True\n",
    "\n",
    "print(f\"Name: {first_name} {last_name}\")\n",
    "print(f\"Age: {age}\")\n",
    "print(f\"Height: {height} feet\")\n",
    "print(f\"Employed: {is_employed}\")\n",
    "\n",
    "# Example 2: Calculator Variables\n",
    "num1 = 15\n",
    "num2 = 4\n",
    "result = num1 + num2\n",
    "\n",
    "print(f\"{num1} + {num2} = {result}\")"
   ]
  },
  {
   "cell_type": "markdown",
   "id": "bea6015b",
   "metadata": {},
   "source": [
    "❓ Common Errors to Avoid"
   ]
  },
  {
   "cell_type": "code",
   "execution_count": null,
   "id": "dc8a6fa8",
   "metadata": {},
   "outputs": [],
   "source": [
    "# Error: Using variable before assignment\n",
    "# print(undefined_var)  # This will cause NameError\n",
    "\n",
    "# Error: Wrong variable name case\n",
    "name = \"Alice\"\n",
    "# print(Name)  # This will cause NameError (case-sensitive)\n",
    "\n",
    "# Error: Using reserved keywords\n",
    "# class = \"Math\"  # This will cause SyntaxError"
   ]
  },
  {
   "cell_type": "markdown",
   "id": "708aadb6",
   "metadata": {},
   "source": [
    "📚 Summary\n",
    "Variables store data with descriptive names\n",
    "\n",
    "Strings for text, Integers for whole numbers\n",
    "\n",
    "Floats for decimals, Booleans for True/False\n",
    "\n",
    "Use type() to check data types\n",
    "\n",
    "Convert between types when needed\n",
    "\n",
    "Choose clear, descriptive variable names"
   ]
  },
  {
   "cell_type": "markdown",
   "id": "c834568d",
   "metadata": {},
   "source": [
    "🟢 BASIC LEVEL (1-2 months)\n",
    "Core Concepts:\n",
    "Variables and data types (strings, numbers, booleans)\n",
    "\n",
    "Basic operators (arithmetic, comparison, logical)\n",
    "\n",
    "Input/output operations\n",
    "\n",
    "Conditional statements (if/elif/else)\n",
    "\n",
    "Loops (for, while)\n",
    "\n",
    "Basic data structures (lists, tuples, dictionaries)\n",
    "\n",
    "Functions (definition, parameters, return values)\n",
    "\n",
    "String manipulation methods\n",
    "\n",
    "Basic file I/O (reading/writing files)\n",
    "\n",
    "Beginner Projects:\n",
    "Simple Calculator\n",
    "\n",
    "Number Guessing Game\n",
    "\n",
    "To-Do List App (CLI)\n",
    "\n",
    "Mad Libs Generator\n",
    "\n",
    "Temperature Converter\n",
    "\n",
    "Basic Password Generator\n",
    "\n",
    "Rock-Paper-Scissors Game\n",
    "\n",
    "Simple Dice Roller\n",
    "\n",
    "🟡 INTERMEDIATE LEVEL (2-4 months)\n",
    "Core Concepts:\n",
    "Object-Oriented Programming (classes, objects, inheritance)\n",
    "\n",
    "Exception handling (try/except/finally)\n",
    "\n",
    "Modules and packages\n",
    "\n",
    "List/dictionary comprehensions\n",
    "\n",
    "Lambda functions\n",
    "\n",
    "Working with dates and times\n",
    "\n",
    "Regular expressions\n",
    "\n",
    "Virtual environments\n",
    "\n",
    "Basic debugging techniques\n",
    "\n",
    "Working with JSON, CSV files\n",
    "\n",
    "Intermediate file operations\n",
    "\n",
    "Intermediate Projects:\n",
    "Web Scraper (using requests/BeautifulSoup)\n",
    "\n",
    "Weather App (API integration)\n",
    "\n",
    "Personal Budget Tracker\n",
    "\n",
    "Basic Blog/Website (with Flask/Django)\n",
    "\n",
    "Password Manager\n",
    "\n",
    "URL Shortener\n",
    "\n",
    "Expense Tracker with Database\n",
    "\n",
    "Automated File Organizer\n",
    "\n",
    "Quiz Application\n",
    "\n",
    "Basic Chatbot\n",
    "\n",
    "🔴 ADVANCED LEVEL (4-6+ months)\n",
    "Core Concepts:\n",
    "Decorators and generators\n",
    "\n",
    "Context managers\n",
    "\n",
    "Metaclasses\n",
    "\n",
    "Concurrency and parallelism (threading, multiprocessing, asyncio)\n",
    "\n",
    "Advanced OOP (magic methods, abstract classes)\n",
    "\n",
    "Memory management and profiling\n",
    "\n",
    "Design patterns\n",
    "\n",
    "Testing (unit tests, pytest)\n",
    "\n",
    "Packaging and distribution\n",
    "\n",
    "Database integration (SQL, ORM)\n",
    "\n",
    "API development (REST, GraphQL)\n",
    "\n",
    "Advanced algorithms and data structures\n",
    "\n",
    "Advanced Projects:\n",
    "Machine Learning Model (with scikit-learn)\n",
    "\n",
    "Web Application with User Authentication\n",
    "\n",
    "Real-time Chat Application\n",
    "\n",
    "E-commerce Platform\n",
    "\n",
    "Data Analysis Dashboard\n",
    "\n",
    "Automated Trading Bot\n",
    "\n",
    "Social Media Bot\n",
    "\n",
    "Computer Vision Project\n",
    "\n",
    "Blockchain Implementation\n",
    "\n",
    "Microservices Architecture"
   ]
  }
 ],
 "metadata": {
  "kernelspec": {
   "display_name": "base",
   "language": "python",
   "name": "python3"
  },
  "language_info": {
   "codemirror_mode": {
    "name": "ipython",
    "version": 3
   },
   "file_extension": ".py",
   "mimetype": "text/x-python",
   "name": "python",
   "nbconvert_exporter": "python",
   "pygments_lexer": "ipython3",
   "version": "3.12.7"
  }
 },
 "nbformat": 4,
 "nbformat_minor": 5
}
