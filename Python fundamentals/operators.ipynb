{
 "cells": [
  {
   "cell_type": "markdown",
   "id": "c33a632c",
   "metadata": {},
   "source": [
    "<h4 style=\"color:green\">Python Operators</h4>"
   ]
  },
  {
   "cell_type": "markdown",
   "id": "1b61d5b5",
   "metadata": {},
   "source": [
    "📝 What are Operators?\n",
    "\n",
    "Operators are special symbols that perform operations on variables and values."
   ]
  },
  {
   "cell_type": "code",
   "execution_count": 16,
   "id": "695bef58",
   "metadata": {},
   "outputs": [
    {
     "name": "stdout",
     "output_type": "stream",
     "text": [
      "15\n"
     ]
    }
   ],
   "source": [
    "# Basic operator example\n",
    "result = 10 + 5  # + is an operator\n",
    "print(result)    # 15"
   ]
  },
  {
   "cell_type": "markdown",
   "id": "ac8ec2a3",
   "metadata": {},
   "source": [
    "🧮 Arithmetic Operators\n",
    "\n",
    "Basic Arithmetic Operations"
   ]
  },
  {
   "cell_type": "code",
   "execution_count": 15,
   "id": "569a49e7",
   "metadata": {},
   "outputs": [
    {
     "name": "stdout",
     "output_type": "stream",
     "text": [
      "19\n",
      "11\n",
      "60\n",
      "3.75\n",
      "3\n",
      "3\n",
      "50625\n"
     ]
    }
   ],
   "source": [
    "a = 15\n",
    "b = 4\n",
    "\n",
    "print(a + b)   # 19  (Addition)\n",
    "print(a - b)   # 11  (Subtraction)\n",
    "print(a * b)   # 60  (Multiplication)\n",
    "print(a / b)   # 3.75 (Division)\n",
    "print(a // b)  # 3   (Floor Division - removes decimal)\n",
    "print(a % b)   # 3   (Modulus - remainder)\n",
    "print(a ** b)  # 50625 (Exponentiation - power)"
   ]
  },
  {
   "cell_type": "markdown",
   "id": "9594e752",
   "metadata": {},
   "source": [
    "Real-world Examples"
   ]
  },
  {
   "cell_type": "code",
   "execution_count": 14,
   "id": "5fb29a9a",
   "metadata": {},
   "outputs": [
    {
     "name": "stdout",
     "output_type": "stream",
     "text": [
      "Total: $41.25\n",
      "Each pays: $30.0\n",
      "Remainder: 1\n"
     ]
    }
   ],
   "source": [
    "# Shopping cart total\n",
    "price1 = 25.50\n",
    "price2 = 15.75\n",
    "total = price1 + price2\n",
    "print(f\"Total: ${total}\")  # Total: $41.25\n",
    "\n",
    "# Splitting bills\n",
    "total_bill = 120\n",
    "people = 4\n",
    "each_pays = total_bill / people\n",
    "print(f\"Each pays: ${each_pays}\")  # Each pays: $30.0\n",
    "\n",
    "# Even/Odd check\n",
    "number = 7\n",
    "remainder = number % 2\n",
    "print(f\"Remainder: {remainder}\")  # Remainder: 1 (odd)"
   ]
  },
  {
   "cell_type": "markdown",
   "id": "0af0a082",
   "metadata": {},
   "source": [
    "⚖️ Comparison Operators\n",
    "\n",
    "Return True or False"
   ]
  },
  {
   "cell_type": "code",
   "execution_count": 13,
   "id": "887ede5f",
   "metadata": {},
   "outputs": [
    {
     "name": "stdout",
     "output_type": "stream",
     "text": [
      "False\n",
      "True\n",
      "True\n",
      "False\n",
      "True\n",
      "False\n"
     ]
    }
   ],
   "source": [
    "x = 10\n",
    "y = 5\n",
    "\n",
    "print(x == y)   # False (Equal to)\n",
    "print(x != y)   # True  (Not equal to)\n",
    "print(x > y)    # True  (Greater than)\n",
    "print(x < y)    # False (Less than)\n",
    "print(x >= y)   # True  (Greater than or equal to)\n",
    "print(x <= y)   # False (Less than or equal to)"
   ]
  },
  {
   "cell_type": "markdown",
   "id": "f2505d97",
   "metadata": {},
   "source": [
    "String Comparison"
   ]
  },
  {
   "cell_type": "code",
   "execution_count": 12,
   "id": "df747980",
   "metadata": {},
   "outputs": [
    {
     "name": "stdout",
     "output_type": "stream",
     "text": [
      "False\n",
      "True\n",
      "True\n"
     ]
    }
   ],
   "source": [
    "name1 = \"Alice\"\n",
    "name2 = \"Bob\"\n",
    "\n",
    "print(name1 == name2)  # False\n",
    "print(name1 != name2)  # True\n",
    "print(\"apple\" < \"banana\")  # True (alphabetical order)"
   ]
  },
  {
   "cell_type": "markdown",
   "id": "d1641618",
   "metadata": {},
   "source": [
    "🔧 Assignment Operators\n",
    "\n",
    "Basic Assignment"
   ]
  },
  {
   "cell_type": "code",
   "execution_count": 11,
   "id": "433ad823",
   "metadata": {},
   "outputs": [
    {
     "name": "stdout",
     "output_type": "stream",
     "text": [
      "10\n",
      "5 10 15\n"
     ]
    }
   ],
   "source": [
    "# Simple assignment\n",
    "x = 10\n",
    "print(x)  # 10\n",
    "\n",
    "# Multiple assignment\n",
    "a, b, c = 5, 10, 15\n",
    "print(a, b, c)  # 5 10 15"
   ]
  },
  {
   "cell_type": "markdown",
   "id": "29329dbb",
   "metadata": {},
   "source": [
    "Compound Assignment Operators"
   ]
  },
  {
   "cell_type": "code",
   "execution_count": 10,
   "id": "e41395f3",
   "metadata": {},
   "outputs": [
    {
     "name": "stdout",
     "output_type": "stream",
     "text": [
      "15\n",
      "12\n",
      "24\n",
      "6.0\n",
      "3.0\n",
      "1.0\n",
      "1.0\n"
     ]
    }
   ],
   "source": [
    "score = 10\n",
    "\n",
    "score += 5   # score = score + 5\n",
    "print(score) # 15\n",
    "\n",
    "score -= 3   # score = score - 3\n",
    "print(score) # 12\n",
    "\n",
    "score *= 2   # score = score * 2\n",
    "print(score) # 24\n",
    "\n",
    "score /= 4   # score = score / 4\n",
    "print(score) # 6.0\n",
    "\n",
    "score //= 2  # score = score // 2\n",
    "print(score) # 3.0\n",
    "\n",
    "score %= 2   # score = score % 2\n",
    "print(score) # 1.0\n",
    "\n",
    "score **= 3  # score = score ** 3\n",
    "print(score) # 1.0"
   ]
  },
  {
   "cell_type": "markdown",
   "id": "b5ebb3d1",
   "metadata": {},
   "source": [
    "🧠 Logical Operators\n",
    "\n",
    "Work with Boolean values (True/False)"
   ]
  },
  {
   "cell_type": "code",
   "execution_count": 9,
   "id": "307ad1d6",
   "metadata": {},
   "outputs": [
    {
     "name": "stdout",
     "output_type": "stream",
     "text": [
      "True\n",
      "False\n",
      "False\n",
      "False\n",
      "True\n",
      "True\n",
      "True\n",
      "False\n",
      "False\n",
      "True\n"
     ]
    }
   ],
   "source": [
    "# AND operator (both must be True)\n",
    "print(True and True)    # True\n",
    "print(True and False)   # False\n",
    "print(False and True)   # False\n",
    "print(False and False)  # False\n",
    "\n",
    "# OR operator (at least one True)\n",
    "print(True or True)     # True\n",
    "print(True or False)    # True\n",
    "print(False or True)    # True\n",
    "print(False or False)   # False\n",
    "\n",
    "# NOT operator (reverses the value)\n",
    "print(not True)         # False\n",
    "print(not False)        # True"
   ]
  },
  {
   "cell_type": "markdown",
   "id": "eea79716",
   "metadata": {},
   "source": [
    "Practical Examples"
   ]
  },
  {
   "cell_type": "code",
   "execution_count": 8,
   "id": "cbe0a1b8",
   "metadata": {},
   "outputs": [
    {
     "name": "stdout",
     "output_type": "stream",
     "text": [
      "Can drive: True\n",
      "Gets discount: True\n",
      "Can rent car: True\n"
     ]
    }
   ],
   "source": [
    "age = 25\n",
    "has_license = True\n",
    "has_car = False\n",
    "\n",
    "# Can drive if age >= 18 AND has license\n",
    "can_drive = age >= 18 and has_license\n",
    "print(f\"Can drive: {can_drive}\")  # Can drive: True\n",
    "\n",
    "# Can get discount if student OR senior\n",
    "is_student = True\n",
    "is_senior = False\n",
    "gets_discount = is_student or is_senior\n",
    "print(f\"Gets discount: {gets_discount}\")  # Gets discount: True\n",
    "\n",
    "# Cannot rent car if under 21 OR no license\n",
    "can_rent_car = age >= 21 and has_license\n",
    "print(f\"Can rent car: {can_rent_car}\")  # Can rent car: True"
   ]
  },
  {
   "cell_type": "markdown",
   "id": "39619a26",
   "metadata": {},
   "source": [
    "🔗 Identity Operators\n",
    "\n",
    "Check if objects are the same in memory"
   ]
  },
  {
   "cell_type": "code",
   "execution_count": 6,
   "id": "32f40579",
   "metadata": {},
   "outputs": [
    {
     "name": "stdout",
     "output_type": "stream",
     "text": [
      "False\n",
      "True\n",
      "True\n"
     ]
    }
   ],
   "source": [
    "a = [1, 2, 3]\n",
    "b = [1, 2, 3]\n",
    "c = a\n",
    "\n",
    "print(a is b)      # False (different objects)\n",
    "print(a is c)      # True (same object)\n",
    "print(a is not b)  # True (different objects)"
   ]
  },
  {
   "cell_type": "markdown",
   "id": "fe20bb10",
   "metadata": {},
   "source": [
    "📦 Membership Operators\n",
    "\n",
    "Check if value exists in sequence"
   ]
  },
  {
   "cell_type": "code",
   "execution_count": 5,
   "id": "dc7fd9a9",
   "metadata": {},
   "outputs": [
    {
     "name": "stdout",
     "output_type": "stream",
     "text": [
      "True\n",
      "False\n",
      "True\n",
      "True\n",
      "False\n"
     ]
    }
   ],
   "source": [
    "fruits = [\"apple\", \"banana\", \"orange\"]\n",
    "\n",
    "print(\"apple\" in fruits)      # True\n",
    "print(\"grape\" in fruits)      # False\n",
    "print(\"mango\" not in fruits)  # True\n",
    "\n",
    "# With strings\n",
    "name = \"Alice\"\n",
    "print(\"A\" in name)    # True\n",
    "print(\"x\" in name)    # False"
   ]
  },
  {
   "cell_type": "markdown",
   "id": "629b29e0",
   "metadata": {},
   "source": [
    "🎯 Operator Precedence\n",
    "\n",
    "Order in which operations are performed"
   ]
  },
  {
   "cell_type": "code",
   "execution_count": 4,
   "id": "7f80c8b9",
   "metadata": {},
   "outputs": [
    {
     "name": "stdout",
     "output_type": "stream",
     "text": [
      "19.0\n",
      "40.0\n"
     ]
    }
   ],
   "source": [
    "# PEMDAS Rule: Parentheses, Exponents, Multiplication/Division, Addition/Subtraction\n",
    "result = 10 + 5 * 2 ** 3 / 4 - 1\n",
    "print(result)  # 19.0\n",
    "\n",
    "# Breakdown:\n",
    "# 2 ** 3 = 8\n",
    "# 5 * 8 = 40\n",
    "# 40 / 4 = 10.0\n",
    "# 10 + 10.0 = 20.0\n",
    "# 20.0 - 1 = 19.0\n",
    "\n",
    "# Use parentheses to control order\n",
    "result2 = (10 + 5) * 2 ** 3 / (4 - 1)\n",
    "print(result2)  # 40.0"
   ]
  },
  {
   "cell_type": "markdown",
   "id": "0a082fbd",
   "metadata": {},
   "source": [
    "💡 Practical Applications\n",
    "\n",
    "Calculator Program"
   ]
  },
  {
   "cell_type": "code",
   "execution_count": 3,
   "id": "2e504d4a",
   "metadata": {},
   "outputs": [
    {
     "name": "stdout",
     "output_type": "stream",
     "text": [
      "20 + 8 = 28\n",
      "20 - 8 = 12\n",
      "20 * 8 = 160\n",
      "20 / 8 = 2.5\n",
      "20 % 8 = 4\n"
     ]
    }
   ],
   "source": [
    "# Simple calculator\n",
    "num1 = 20\n",
    "num2 = 8\n",
    "\n",
    "print(f\"{num1} + {num2} = {num1 + num2}\")\n",
    "print(f\"{num1} - {num2} = {num1 - num2}\")\n",
    "print(f\"{num1} * {num2} = {num1 * num2}\")\n",
    "print(f\"{num1} / {num2} = {num1 / num2}\")\n",
    "print(f\"{num1} % {num2} = {num1 % num2}\")"
   ]
  },
  {
   "cell_type": "markdown",
   "id": "322f83dd",
   "metadata": {},
   "source": [
    "Shopping Cart"
   ]
  },
  {
   "cell_type": "code",
   "execution_count": null,
   "id": "fa1e5cdd",
   "metadata": {},
   "outputs": [
    {
     "name": "stdout",
     "output_type": "stream",
     "text": [
      "Subtotal: $149.970\n",
      "Tax: $12.00\n",
      "Discount: -$10.00\n",
      "Total: $151.97\n"
     ]
    }
   ],
   "source": [
    "# E-commerce calculations\n",
    "item_price = 49.99\n",
    "quantity = 3\n",
    "tax_rate = 0.08\n",
    "discount = 10\n",
    "\n",
    "subtotal = item_price * quantity\n",
    "tax_amount = subtotal * tax_rate\n",
    "total = subtotal + tax_amount - discount\n",
    "\n",
    "print(f\"Subtotal: ${subtotal:.2f}\")\n",
    "print(f\"Tax: ${tax_amount:.2f}\")\n",
    "print(f\"Discount: -${discount:.2f}\")\n",
    "print(f\"Total: ${total:.2f}\")"
   ]
  },
  {
   "cell_type": "markdown",
   "id": "c9cabb86",
   "metadata": {},
   "source": [
    "📚 Summary"
   ]
  },
  {
   "cell_type": "markdown",
   "id": "66b9372d",
   "metadata": {},
   "source": [
    "Arithmetic: + - * / // % **\n",
    "\n",
    "Comparison: == != > < >= <=\n",
    "\n",
    "Assignment: = += -= *= /=\n",
    "\n",
    "Logical: and or not\n",
    "\n",
    "Identity: is is not\n",
    "\n",
    "Membership: in not in\n",
    "\n",
    "Precedence: Use parentheses () to control order"
   ]
  }
 ],
 "metadata": {
  "kernelspec": {
   "display_name": "base",
   "language": "python",
   "name": "python3"
  },
  "language_info": {
   "codemirror_mode": {
    "name": "ipython",
    "version": 3
   },
   "file_extension": ".py",
   "mimetype": "text/x-python",
   "name": "python",
   "nbconvert_exporter": "python",
   "pygments_lexer": "ipython3",
   "version": "3.12.7"
  }
 },
 "nbformat": 4,
 "nbformat_minor": 5
}
