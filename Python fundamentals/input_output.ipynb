{
 "cells": [
  {
   "cell_type": "markdown",
   "id": "f454ce3e",
   "metadata": {},
   "source": [
    "<h4 style=\"color:green\">Python Input and Output (I/O)</h4>"
   ]
  },
  {
   "cell_type": "markdown",
   "id": "8da2de82",
   "metadata": {},
   "source": [
    "📝 What is Input/Output?\n",
    "\n",
    "Input: Getting data from the user\n",
    "\n",
    "Output: Displaying data to the user"
   ]
  },
  {
   "cell_type": "markdown",
   "id": "6e3d3336",
   "metadata": {},
   "source": [
    "🖨️ Output with print()\n",
    "\n",
    "Basic Print Statements"
   ]
  },
  {
   "cell_type": "code",
   "execution_count": 1,
   "id": "83744f7d",
   "metadata": {},
   "outputs": [
    {
     "name": "stdout",
     "output_type": "stream",
     "text": [
      "Hello World!\n",
      "123\n",
      "3.14\n",
      "True\n"
     ]
    }
   ],
   "source": [
    "# Simple output\n",
    "print(\"Hello World!\")\n",
    "print(123)\n",
    "print(3.14)\n",
    "print(True)\n",
    "\n",
    "# Output:\n",
    "# Hello World!\n",
    "# 123\n",
    "# 3.14\n",
    "# True"
   ]
  },
  {
   "cell_type": "markdown",
   "id": "dc343535",
   "metadata": {},
   "source": [
    "Multiple Items in One Print"
   ]
  },
  {
   "cell_type": "code",
   "execution_count": 2,
   "id": "1384a91b",
   "metadata": {},
   "outputs": [
    {
     "name": "stdout",
     "output_type": "stream",
     "text": [
      "Name: Alice Age: 25\n",
      "Python is awesome!\n"
     ]
    }
   ],
   "source": [
    "# Printing multiple values\n",
    "name = \"Alice\"\n",
    "age = 25\n",
    "print(\"Name:\", name, \"Age:\", age)  # Name: Alice Age: 25\n",
    "\n",
    "# Using commas (adds space automatically)\n",
    "print(\"Python\", \"is\", \"awesome!\")  # Python is awesome!"
   ]
  },
  {
   "cell_type": "markdown",
   "id": "bb55f160",
   "metadata": {},
   "source": [
    "Print with Separator"
   ]
  },
  {
   "cell_type": "code",
   "execution_count": 3,
   "id": "6a4b312b",
   "metadata": {},
   "outputs": [
    {
     "name": "stdout",
     "output_type": "stream",
     "text": [
      "2023-12-25\n",
      "A → B → C\n",
      "HelloWorld\n"
     ]
    }
   ],
   "source": [
    "# Custom separator\n",
    "print(\"2023\", \"12\", \"25\", sep=\"-\")    # 2023-12-25\n",
    "print(\"A\", \"B\", \"C\", sep=\" → \")       # A → B → C\n",
    "print(\"Hello\", \"World\", sep=\"\")       # HelloWorld"
   ]
  },
  {
   "cell_type": "markdown",
   "id": "91bf50c9",
   "metadata": {},
   "source": [
    "Print with End Character"
   ]
  },
  {
   "cell_type": "code",
   "execution_count": 4,
   "id": "0fd9e489",
   "metadata": {},
   "outputs": [
    {
     "name": "stdout",
     "output_type": "stream",
     "text": [
      "Hello World\n",
      "Loading...Done\n",
      "First line\n",
      "\n",
      "Second line\n"
     ]
    }
   ],
   "source": [
    "# Change how print ends\n",
    "print(\"Hello\", end=\" \")\n",
    "print(\"World\")                    # Hello World\n",
    "\n",
    "print(\"Loading\", end=\"...\")\n",
    "print(\"Done\")                     # Loading...Done\n",
    "\n",
    "print(\"First line\", end=\"\\n\\n\")   # Adds extra newline\n",
    "print(\"Second line\")"
   ]
  },
  {
   "cell_type": "markdown",
   "id": "de0a3725",
   "metadata": {},
   "source": [
    "⌨️ Input with input()\n",
    "\n",
    "Basic Input"
   ]
  },
  {
   "cell_type": "code",
   "execution_count": null,
   "id": "3f46b102",
   "metadata": {},
   "outputs": [],
   "source": [
    "# Getting user input\n",
    "name = input(\"Enter your name: \")\n",
    "print(\"Hello, \" + name)\n",
    "\n",
    "# Example usage:\n",
    "# Enter your name: John\n",
    "# Hello, John"
   ]
  },
  {
   "cell_type": "markdown",
   "id": "5ef4181d",
   "metadata": {},
   "source": [
    "Input Always Returns String"
   ]
  },
  {
   "cell_type": "code",
   "execution_count": 2,
   "id": "a366076d",
   "metadata": {},
   "outputs": [
    {
     "name": "stdout",
     "output_type": "stream",
     "text": [
      "<class 'str'>\n"
     ]
    }
   ],
   "source": [
    "# input() always returns string - be careful!\n",
    "age = input(\"Enter your age: \")\n",
    "print(type(age))  # <class 'str'> even if you enter a number\n",
    "\n",
    "# This will cause error if you try math operations:\n",
    "# next_year = age + 1  # TypeError!"
   ]
  },
  {
   "cell_type": "markdown",
   "id": "c223f95b",
   "metadata": {},
   "source": [
    "Converting Input to Other Types"
   ]
  },
  {
   "cell_type": "code",
   "execution_count": null,
   "id": "e0599b21",
   "metadata": {},
   "outputs": [],
   "source": [
    "# Convert to integer\n",
    "age = int(input(\"Enter your age: \"))\n",
    "next_year = age + 1\n",
    "print(f\"Next year you'll be {next_year}\")\n",
    "\n",
    "# Convert to float\n",
    "height = float(input(\"Enter your height in meters: \"))\n",
    "print(f\"Your height is {height} meters\")\n",
    "\n",
    "# Convert to boolean (careful with this!)\n",
    "is_student = bool(input(\"Are you a student? (True/False): \"))\n",
    "print(f\"Student status: {is_student}\")"
   ]
  },
  {
   "cell_type": "markdown",
   "id": "e971b5dc",
   "metadata": {},
   "source": [
    "💡 Practical Examples\n",
    "\n",
    "Simple Calculator"
   ]
  },
  {
   "cell_type": "code",
   "execution_count": null,
   "id": "3eaf3472",
   "metadata": {},
   "outputs": [
    {
     "name": "stdout",
     "output_type": "stream",
     "text": [
      "=== Simple Calculator ===\n"
     ]
    }
   ],
   "source": [
    "# Basic calculator with input\n",
    "print(\"=== Simple Calculator ===\")\n",
    "num1 = float(input(\"Enter first number: \"))\n",
    "num2 = float(input(\"Enter second number: \"))\n",
    "\n",
    "print(f\"{num1} + {num2} = {num1 + num2}\")\n",
    "print(f\"{num1} - {num2} = {num1 - num2}\")\n",
    "print(f\"{num1} * {num2} = {num1 * num2}\")\n",
    "print(f\"{num1} / {num2} = {num1 / num2}\")"
   ]
  },
  {
   "cell_type": "markdown",
   "id": "2d305ff3",
   "metadata": {},
   "source": [
    "Personal Information Form"
   ]
  },
  {
   "cell_type": "code",
   "execution_count": null,
   "id": "28e99a48",
   "metadata": {},
   "outputs": [],
   "source": [
    "# Collecting user information\n",
    "print(\"=== Personal Information ===\")\n",
    "name = input(\"Enter your full name: \")\n",
    "age = int(input(\"Enter your age: \"))\n",
    "city = input(\"Enter your city: \")\n",
    "email = input(\"Enter your email: \")\n",
    "\n",
    "print(\"\\n--- Your Information ---\")\n",
    "print(f\"Name: {name}\")\n",
    "print(f\"Age: {age}\")\n",
    "print(f\"City: {city}\")\n",
    "print(f\"Email: {email}\")"
   ]
  },
  {
   "cell_type": "markdown",
   "id": "459c3b7b",
   "metadata": {},
   "source": [
    "Shopping Cart"
   ]
  },
  {
   "cell_type": "code",
   "execution_count": null,
   "id": "8a07f74f",
   "metadata": {},
   "outputs": [],
   "source": [
    "# Simple shopping program\n",
    "print(\"=== Shopping Cart ===\")\n",
    "item = input(\"Enter item name: \")\n",
    "price = float(input(\"Enter item price: $\"))\n",
    "quantity = int(input(\"Enter quantity: \"))\n",
    "\n",
    "total = price * quantity\n",
    "\n",
    "print(f\"\\n--- Receipt ---\")\n",
    "print(f\"Item: {item}\")\n",
    "print(f\"Price: ${price:.2f}\")\n",
    "print(f\"Quantity: {quantity}\")\n",
    "print(f\"Total: ${total:.2f}\")"
   ]
  },
  {
   "cell_type": "markdown",
   "id": "276d47a1",
   "metadata": {},
   "source": [
    "🎨 Formatted Output (f-strings)\n",
    "\n",
    "Basic f-strings"
   ]
  },
  {
   "cell_type": "code",
   "execution_count": null,
   "id": "0bf37e59",
   "metadata": {},
   "outputs": [],
   "source": [
    "name = \"Alice\"\n",
    "age = 25\n",
    "score = 95.5\n",
    "\n",
    "# f-string formatting (Python 3.6+)\n",
    "print(f\"Name: {name}, Age: {age}, Score: {score}\")\n",
    "\n",
    "# Calculations inside f-strings\n",
    "print(f\"Next year: {age + 1}\")\n",
    "print(f\"Double score: {score * 2}\")"
   ]
  },
  {
   "cell_type": "markdown",
   "id": "73103025",
   "metadata": {},
   "source": [
    "Formatting Numbers"
   ]
  },
  {
   "cell_type": "code",
   "execution_count": null,
   "id": "456c27f6",
   "metadata": {},
   "outputs": [],
   "source": [
    "price = 49.98765\n",
    "percentage = 0.856\n",
    "\n",
    "print(f\"Price: ${price:.2f}\")           # Price: $49.99\n",
    "print(f\"Percentage: {percentage:.1%}\")  # Percentage: 85.6%\n",
    "print(f\"Percentage: {percentage:.2%}\")  # Percentage: 85.60%"
   ]
  },
  {
   "cell_type": "markdown",
   "id": "4531c160",
   "metadata": {},
   "source": [
    "Alignment and Padding"
   ]
  },
  {
   "cell_type": "code",
   "execution_count": null,
   "id": "adddf81d",
   "metadata": {},
   "outputs": [],
   "source": [
    "name = \"Alice\"\n",
    "score = 95\n",
    "\n",
    "print(f\"Name: {name:<10} Score: {score}\")   # Left align\n",
    "print(f\"Name: {name:>10} Score: {score}\")   # Right align  \n",
    "print(f\"Name: {name:^10} Score: {score}\")   # Center align"
   ]
  },
  {
   "cell_type": "markdown",
   "id": "145ff73d",
   "metadata": {},
   "source": [
    "⚠️ Error Handling with Input\n",
    "\n",
    "Safe Number Input"
   ]
  },
  {
   "cell_type": "code",
   "execution_count": null,
   "id": "d3e2c9c7",
   "metadata": {},
   "outputs": [],
   "source": [
    "# Handling invalid number input\n",
    "while True:\n",
    "    try:\n",
    "        age = int(input(\"Enter your age: \"))\n",
    "        break  # Exit loop if conversion successful\n",
    "    except ValueError:\n",
    "        print(\"Please enter a valid number!\")\n",
    "\n",
    "print(f\"Your age is: {age}\")"
   ]
  },
  {
   "cell_type": "markdown",
   "id": "6f7f94ce",
   "metadata": {},
   "source": [
    "Input Validation"
   ]
  },
  {
   "cell_type": "code",
   "execution_count": null,
   "id": "831d7173",
   "metadata": {},
   "outputs": [],
   "source": [
    "# Validate age range\n",
    "while True:\n",
    "    try:\n",
    "        age = int(input(\"Enter age (0-120): \"))\n",
    "        if 0 <= age <= 120:\n",
    "            break\n",
    "        else:\n",
    "            print(\"Please enter age between 0 and 120\")\n",
    "    except ValueError:\n",
    "        print(\"Please enter a valid number!\")\n",
    "\n",
    "print(f\"Valid age entered: {age}\")"
   ]
  },
  {
   "cell_type": "markdown",
   "id": "4e9fccb8",
   "metadata": {},
   "source": [
    "🔄 Multiple Inputs in One Line\n",
    "\n",
    "Split Input"
   ]
  },
  {
   "cell_type": "code",
   "execution_count": null,
   "id": "e56da2b2",
   "metadata": {},
   "outputs": [],
   "source": [
    "# Multiple values in one input\n",
    "data = input(\"Enter name and age separated by space: \")\n",
    "name, age_str = data.split()  # Split by space\n",
    "age = int(age_str)\n",
    "\n",
    "print(f\"Name: {name}, Age: {age}\")\n",
    "\n",
    "# Example input: \"Alice 25\""
   ]
  },
  {
   "cell_type": "markdown",
   "id": "59c59d88",
   "metadata": {},
   "source": [
    "Comma Separated Input"
   ]
  },
  {
   "cell_type": "code",
   "execution_count": null,
   "id": "db15513e",
   "metadata": {},
   "outputs": [],
   "source": [
    "# Comma separated values\n",
    "numbers = input(\"Enter 3 numbers separated by commas: \")\n",
    "num1, num2, num3 = map(float, numbers.split(','))\n",
    "\n",
    "print(f\"Numbers: {num1}, {num2}, {num3}\")\n",
    "print(f\"Sum: {num1 + num2 + num3}\")\n",
    "\n",
    "# Example input: \"10,20,30\""
   ]
  },
  {
   "cell_type": "markdown",
   "id": "9be91962",
   "metadata": {},
   "source": [
    "🎯 Interactive Programs\n",
    "\n",
    "Quiz Program"
   ]
  },
  {
   "cell_type": "code",
   "execution_count": null,
   "id": "00f22f8a",
   "metadata": {},
   "outputs": [],
   "source": [
    "print(\"=== Python Quiz ===\")\n",
    "name = input(\"Enter your name: \")\n",
    "\n",
    "answer1 = input(\"What is 5 + 3? \")\n",
    "if answer1 == \"8\":\n",
    "    print(\"Correct! ✅\")\n",
    "else:\n",
    "    print(\"Wrong! ❌\")\n",
    "\n",
    "answer2 = input(\"What is the capital of France? \")\n",
    "if answer2.lower() == \"paris\":\n",
    "    print(\"Correct! ✅\")\n",
    "else:\n",
    "    print(\"Wrong! ❌\")"
   ]
  },
  {
   "cell_type": "markdown",
   "id": "14c9f7aa",
   "metadata": {},
   "source": [
    "Temperature Converter"
   ]
  },
  {
   "cell_type": "code",
   "execution_count": null,
   "id": "44347d7d",
   "metadata": {},
   "outputs": [],
   "source": [
    "print(\"=== Temperature Converter ===\")\n",
    "celsius = float(input(\"Enter temperature in Celsius: \"))\n",
    "fahrenheit = (celsius * 9/5) + 32\n",
    "\n",
    "print(f\"{celsius}°C = {fahrenheit}°F\")\n",
    "print(f\"Rounded: {celsius}°C = {fahrenheit:.1f}°F\")"
   ]
  },
  {
   "cell_type": "markdown",
   "id": "01611890",
   "metadata": {},
   "source": [
    "📚 Summary"
   ]
  },
  {
   "cell_type": "markdown",
   "id": "5e68dc8e",
   "metadata": {},
   "source": [
    "Output: print() - displays information\n",
    "\n",
    "Input: input() - gets user input (always returns string)\n",
    "\n",
    "Formatting: Use f-strings for clean output\n",
    "\n",
    "Conversion: Convert input to proper data types (int(), float())\n",
    "\n",
    "Validation: Handle errors with try-except"
   ]
  }
 ],
 "metadata": {
  "kernelspec": {
   "display_name": "Python 3",
   "language": "python",
   "name": "python3"
  },
  "language_info": {
   "codemirror_mode": {
    "name": "ipython",
    "version": 3
   },
   "file_extension": ".py",
   "mimetype": "text/x-python",
   "name": "python",
   "nbconvert_exporter": "python",
   "pygments_lexer": "ipython3",
   "version": "3.13.7"
  }
 },
 "nbformat": 4,
 "nbformat_minor": 5
}
