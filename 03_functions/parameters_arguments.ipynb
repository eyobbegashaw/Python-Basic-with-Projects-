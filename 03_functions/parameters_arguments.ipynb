{
 "cells": [
  {
   "cell_type": "markdown",
   "id": "fc21e6b3",
   "metadata": {},
   "source": [
    "<h4 style=\"color:green\">Python Function Parameters and Arguments</h4>"
   ]
  },
  {
   "cell_type": "markdown",
   "id": "6e2849b4",
   "metadata": {},
   "source": [
    "📝 Parameters vs Arguments\n",
    "\n",
    "Parameters: Variables in the function definition\n",
    "\n",
    "Arguments: Actual values passed to the function when calling it"
   ]
  },
  {
   "cell_type": "code",
   "execution_count": null,
   "id": "86874181",
   "metadata": {},
   "outputs": [],
   "source": [
    "# Parameters: name, age\n",
    "def introduce(name, age):\n",
    "    print(f\"Hello, I'm {name} and I'm {age} years old\")\n",
    "\n",
    "# Arguments: \"Alice\", 25\n",
    "introduce(\"Alice\", 25)"
   ]
  },
  {
   "cell_type": "markdown",
   "id": "c78cc41c",
   "metadata": {},
   "source": [
    "🎯 Types of Parameters/Arguments\n",
    "\n",
    "1. Positional Arguments\n",
    "\n",
    "Arguments are matched to parameters by position (order matters)"
   ]
  },
  {
   "cell_type": "code",
   "execution_count": null,
   "id": "6e41fa6b",
   "metadata": {},
   "outputs": [],
   "source": [
    "def student_info(name, grade, school):\n",
    "    \"\"\"Positional arguments example\"\"\"\n",
    "    print(f\"Name: {name}, Grade: {grade}, School: {school}\")\n",
    "\n",
    "# Correct order\n",
    "student_info(\"Alice\", \"10th\", \"High School\")\n",
    "# Output: Name: Alice, Grade: 10th, School: High School\n",
    "\n",
    "# Wrong order - produces unexpected results\n",
    "student_info(\"High School\", \"Alice\", \"10th\")\n",
    "# Output: Name: High School, Grade: Alice, School: 10th"
   ]
  },
  {
   "cell_type": "markdown",
   "id": "aa75af50",
   "metadata": {},
   "source": [
    "2. Keyword Arguments\n",
    "\n",
    "Arguments are matched by parameter name (order doesn't matter)"
   ]
  },
  {
   "cell_type": "code",
   "execution_count": null,
   "id": "d4706cbf",
   "metadata": {},
   "outputs": [],
   "source": [
    "def employee_details(name, position, salary, department):\n",
    "    \"\"\"Keyword arguments example\"\"\"\n",
    "    print(f\"\"\"\n",
    "    Employee Details:\n",
    "    Name: {name}\n",
    "    Position: {position}\n",
    "    Salary: ${salary}\n",
    "    Department: {department}\n",
    "    \"\"\")\n",
    "\n",
    "# Using keyword arguments - order doesn't matter\n",
    "employee_details(\n",
    "    salary=50000,\n",
    "    department=\"IT\",\n",
    "    name=\"Bob Smith\", \n",
    "    position=\"Developer\"\n",
    ")\n",
    "\n",
    "# Mixing positional and keyword arguments\n",
    "employee_details(\"Alice\", \"Manager\", department=\"HR\", salary=60000)"
   ]
  },
  {
   "cell_type": "markdown",
   "id": "cf2a9118",
   "metadata": {},
   "source": [
    "3. Default Parameters\n",
    "\n",
    "Parameters with predefined values"
   ]
  },
  {
   "cell_type": "code",
   "execution_count": null,
   "id": "2af0f1f6",
   "metadata": {},
   "outputs": [],
   "source": [
    "def order_coffee(coffee_type, size=\"medium\", sugar=1, milk=True):\n",
    "    \"\"\"Function with default parameters\"\"\"\n",
    "    order = f\"{size.title()} {coffee_type}\"\n",
    "    \n",
    "    if milk:\n",
    "        order += \" with milk\"\n",
    "    else:\n",
    "        order += \" without milk\"\n",
    "    \n",
    "    order += f\" and {sugar} sugar(s)\"\n",
    "    \n",
    "    return order\n",
    "\n",
    "# Using different combinations\n",
    "print(order_coffee(\"latte\"))                          # Use all defaults\n",
    "print(order_coffee(\"cappuccino\", \"large\"))            # Override size\n",
    "print(order_coffee(\"espresso\", sugar=0, milk=False))  # Override multiple\n",
    "print(order_coffee(\"mocha\", \"small\", 2))              # Positional override\n",
    "\n",
    "# Output:\n",
    "# Medium latte with milk and 1 sugar(s)\n",
    "# Large cappuccino with milk and 1 sugar(s)\n",
    "# Medium espresso without milk and 0 sugar(s)\n",
    "# Small mocha with milk and 2 sugar(s)"
   ]
  },
  {
   "cell_type": "markdown",
   "id": "1b156dfd",
   "metadata": {},
   "source": [
    "🔄 Advanced Parameter Types\n",
    "\n",
    "*args - Variable Positional Arguments\n",
    "\n",
    "Accepts any number of positional arguments"
   ]
  },
  {
   "cell_type": "code",
   "execution_count": null,
   "id": "847b64da",
   "metadata": {},
   "outputs": [],
   "source": [
    "def calculate_total(*prices):\n",
    "    \"\"\"Calculate total of any number of prices\"\"\"\n",
    "    print(f\"Prices received: {prices}\")\n",
    "    print(f\"Type of prices: {type(prices)}\")  # tuple\n",
    "    return sum(prices)\n",
    "\n",
    "# Using *args\n",
    "total1 = calculate_total(10, 20, 30)\n",
    "total2 = calculate_total(5, 15, 25, 35, 45)\n",
    "total3 = calculate_total(100)  # Single argument\n",
    "\n",
    "print(f\"Total 1: ${total1}\")  # $60\n",
    "print(f\"Total 2: ${total2}\")  # $125\n",
    "print(f\"Total 3: ${total3}\")  # $100\n",
    "\n",
    "# Practical example: Shopping cart\n",
    "def print_receipt(*items):\n",
    "    \"\"\"Print receipt for multiple items\"\"\"\n",
    "    print(\"=== RECEIPT ===\")\n",
    "    total = 0\n",
    "    for i, price in enumerate(items, 1):\n",
    "        print(f\"Item {i}: ${price:.2f}\")\n",
    "        total += price\n",
    "    print(f\"Total: ${total:.2f}\")\n",
    "    print(\"===============\")\n",
    "\n",
    "print_receipt(12.99, 5.50, 8.75, 3.25)"
   ]
  },
  {
   "cell_type": "markdown",
   "id": "f0cca42f",
   "metadata": {},
   "source": [
    "**kwargs - Variable Keyword Arguments\n",
    "\n",
    "Accepts any number of keyword arguments"
   ]
  },
  {
   "cell_type": "code",
   "execution_count": null,
   "id": "d522a2c8",
   "metadata": {},
   "outputs": [],
   "source": [
    "def create_student_profile(**student_info):\n",
    "    \"\"\"Create student profile from keyword arguments\"\"\"\n",
    "    print(f\"Student info type: {type(student_info)}\")  # dict\n",
    "    \n",
    "    print(\"\\n--- Student Profile ---\")\n",
    "    for key, value in student_info.items():\n",
    "        print(f\"{key.title()}: {value}\")\n",
    "\n",
    "# Using **kwargs\n",
    "create_student_profile(\n",
    "    name=\"Alice Johnson\",\n",
    "    age=16,\n",
    "    grade=\"10th\",\n",
    "    school=\"High School\",\n",
    "    gpa=3.8,\n",
    "    favorite_subject=\"Math\"\n",
    ")\n",
    "\n",
    "# Practical example: Configuration settings\n",
    "def configure_app(**settings):\n",
    "    \"\"\"Configure application with various settings\"\"\"\n",
    "    default_settings = {\n",
    "        \"theme\": \"light\",\n",
    "        \"language\": \"en\",\n",
    "        \"notifications\": True,\n",
    "        \"font_size\": 14\n",
    "    }\n",
    "    \n",
    "    # Update defaults with provided settings\n",
    "    default_settings.update(settings)\n",
    "    \n",
    "    print(\"App Configuration:\")\n",
    "    for key, value in default_settings.items():\n",
    "        print(f\"  {key}: {value}\")\n",
    "\n",
    "configure_app(theme=\"dark\", font_size=16, language=\"es\")"
   ]
  },
  {
   "cell_type": "markdown",
   "id": "1e51056b",
   "metadata": {},
   "source": [
    "🎪 Combining All Parameter Types\n",
    "\n",
    "Complete Parameter Syntax"
   ]
  },
  {
   "cell_type": "code",
   "execution_count": null,
   "id": "a82eae07",
   "metadata": {},
   "outputs": [],
   "source": [
    "def complex_function(positional, default=\"default\", *args, **kwargs):\n",
    "    \"\"\"Function with all parameter types\"\"\"\n",
    "    print(f\"Positional: {positional}\")\n",
    "    print(f\"Default: {default}\")\n",
    "    print(f\"*args: {args}\")\n",
    "    print(f\"**kwargs: {kwargs}\")\n",
    "    print(\"-\" * 30)\n",
    "\n",
    "# Different ways to call\n",
    "complex_function(\"first\")\n",
    "complex_function(\"first\", \"custom_default\")\n",
    "complex_function(\"first\", \"custom\", \"arg1\", \"arg2\")\n",
    "complex_function(\"first\", \"custom\", \"arg1\", \"arg2\", key1=\"value1\", key2=\"value2\")"
   ]
  },
  {
   "cell_type": "markdown",
   "id": "ec1dbd2e",
   "metadata": {},
   "source": [
    "Practical Example: Registration System"
   ]
  },
  {
   "cell_type": "code",
   "execution_count": null,
   "id": "50073ebe",
   "metadata": {},
   "outputs": [],
   "source": [
    "def register_user(username, email, *interests, **profile_details):\n",
    "    \"\"\"Register user with interests and profile details\"\"\"\n",
    "    print(f\"New User Registration:\")\n",
    "    print(f\"Username: {username}\")\n",
    "    print(f\"Email: {email}\")\n",
    "    \n",
    "    if interests:\n",
    "        print(f\"Interests: {', '.join(interests)}\")\n",
    "    \n",
    "    if profile_details:\n",
    "        print(\"Profile Details:\")\n",
    "        for key, value in profile_details.items():\n",
    "            print(f\"  {key.replace('_', ' ').title()}: {value}\")\n",
    "\n",
    "# Register different users\n",
    "register_user(\n",
    "    \"alice_dev\", \n",
    "    \"alice@email.com\",\n",
    "    \"programming\", \"reading\", \"music\",\n",
    "    full_name=\"Alice Johnson\",\n",
    "    age=25,\n",
    "    location=\"New York\",\n",
    "    occupation=\"Software Developer\"\n",
    ")\n",
    "\n",
    "register_user(\n",
    "    \"bob_artist\",\n",
    "    \"bob@email.com\",\n",
    "    \"painting\", \"photography\"\n",
    ")\n",
    "\n",
    "register_user(\n",
    "    \"charlie_travel\",\n",
    "    \"charlie@email.com\",\n",
    "    country=\"UK\",\n",
    "    newsletter_subscription=True\n",
    ")"
   ]
  },
  {
   "cell_type": "markdown",
   "id": "9db61992",
   "metadata": {},
   "source": [
    "🔧 Parameter Passing Techniques\n",
    "\n",
    "Unpacking Arguments"
   ]
  },
  {
   "cell_type": "code",
   "execution_count": null,
   "id": "3f1018ea",
   "metadata": {},
   "outputs": [],
   "source": [
    "def connect_database(host, port, username, password, database):\n",
    "    \"\"\"Simulate database connection\"\"\"\n",
    "    print(f\"Connecting to {database} at {host}:{port}\")\n",
    "    print(f\"Username: {username}\")\n",
    "    return f\"Connected to {database}\"\n",
    "\n",
    "# Using list/tuple unpacking with *\n",
    "db_config = [\"localhost\", 5432, \"admin\", \"secret123\", \"company_db\"]\n",
    "connection1 = connect_database(*db_config)\n",
    "\n",
    "# Using dictionary unpacking with **\n",
    "db_config_dict = {\n",
    "    \"host\": \"127.0.0.1\",\n",
    "    \"port\": 3306,\n",
    "    \"username\": \"root\", \n",
    "    \"password\": \"mypassword\",\n",
    "    \"database\": \"inventory\"\n",
    "}\n",
    "connection2 = connect_database(**db_config_dict)"
   ]
  },
  {
   "cell_type": "markdown",
   "id": "aae0bb0e",
   "metadata": {},
   "source": [
    "Mixed Unpacking"
   ]
  },
  {
   "cell_type": "code",
   "execution_count": null,
   "id": "178424d6",
   "metadata": {},
   "outputs": [],
   "source": [
    "def create_person(first_name, last_name, age, city, country):\n",
    "    \"\"\"Create person profile\"\"\"\n",
    "    return f\"{first_name} {last_name}, {age}, from {city}, {country}\"\n",
    "\n",
    "# Mixed unpacking example\n",
    "names = [\"John\", \"Doe\"]\n",
    "details = {\"city\": \"London\", \"country\": \"UK\"}\n",
    "\n",
    "profile = create_person(*names, 30, **details)\n",
    "print(profile)  # John Doe, 30, from London, UK"
   ]
  },
  {
   "cell_type": "markdown",
   "id": "85bf0a45",
   "metadata": {},
   "source": [
    "💡 Real-world Examples\n",
    "\n",
    "E-commerce Product Function"
   ]
  },
  {
   "cell_type": "code",
   "execution_count": null,
   "id": "7017a4e2",
   "metadata": {},
   "outputs": [],
   "source": [
    "def create_product(name, price, *categories, **product_details):\n",
    "    \"\"\"Create product with categories and details\"\"\"\n",
    "    product = {\n",
    "        \"name\": name,\n",
    "        \"price\": price,\n",
    "        \"categories\": categories,\n",
    "        \"details\": product_details\n",
    "    }\n",
    "    \n",
    "    print(f\"\\n📦 New Product: {name}\")\n",
    "    print(f\"💰 Price: ${price:.2f}\")\n",
    "    \n",
    "    if categories:\n",
    "        print(f\"🏷️ Categories: {', '.join(categories)}\")\n",
    "    \n",
    "    if product_details:\n",
    "        print(\"📋 Details:\")\n",
    "        for key, value in product_details.items():\n",
    "            print(f\"   {key}: {value}\")\n",
    "    \n",
    "    return product\n",
    "\n",
    "# Create different products\n",
    "laptop = create_product(\n",
    "    \"Gaming Laptop\",\n",
    "    1299.99,\n",
    "    \"Electronics\", \"Computers\", \"Gaming\",\n",
    "    brand=\"TechCorp\",\n",
    "    warranty=\"2 years\",\n",
    "    in_stock=True,\n",
    "    rating=4.5\n",
    ")\n",
    "\n",
    "book = create_product(\n",
    "    \"Python Programming\",\n",
    "    39.99,\n",
    "    \"Books\", \"Education\",\n",
    "    author=\"John Smith\",\n",
    "    pages=350,\n",
    "    publisher=\"CodePress\"\n",
    ")"
   ]
  },
  {
   "cell_type": "markdown",
   "id": "735e26bf",
   "metadata": {},
   "source": [
    "⚠️ Common Mistakes and Best Practices\n",
    "\n",
    "Parameter Order Rules"
   ]
  },
  {
   "cell_type": "code",
   "execution_count": null,
   "id": "6cb85b9f",
   "metadata": {},
   "outputs": [],
   "source": [
    "# Correct order:\n",
    "# 1. Positional parameters\n",
    "# 2. *args\n",
    "# 3. Keyword-only parameters (if any)\n",
    "# 4. **kwargs\n",
    "\n",
    "def correct_order(pos1, pos2, *args, kwarg1=\"default\", **kwargs):\n",
    "    pass\n",
    "\n",
    "# Wrong order will cause SyntaxError\n",
    "# def wrong_order(*args, pos1, pos2, **kwargs):\n",
    "#     pass"
   ]
  },
  {
   "cell_type": "markdown",
   "id": "18fb99a1",
   "metadata": {},
   "source": [
    "Avoid Mutable Default Parameters"
   ]
  },
  {
   "cell_type": "code",
   "execution_count": null,
   "id": "6e02f938",
   "metadata": {},
   "outputs": [],
   "source": [
    "# ❌ Dangerous - mutable default parameter\n",
    "def add_item_bad(item, items=[]):\n",
    "    items.append(item)\n",
    "    return items\n",
    "\n",
    "# ✅ Safe - use None and create new list\n",
    "def add_item_good(item, items=None):\n",
    "    if items is None:\n",
    "        items = []\n",
    "    items.append(item)\n",
    "    return items\n",
    "\n",
    "print(add_item_good(\"apple\"))  # ['apple']\n",
    "print(add_item_good(\"banana\")) # ['banana'] - correct!"
   ]
  },
  {
   "cell_type": "markdown",
   "id": "09038422",
   "metadata": {},
   "source": [
    "📚 Summary\n",
    "\n",
    "Parameter Types:\n",
    "Positional: Matched by position\n",
    "\n",
    "Keyword: Matched by name\n",
    "\n",
    "Default: Have predefined values\n",
    "\n",
    "*args: Variable positional arguments (tuple)\n",
    "\n",
    "****kwargs**: Variable keyword arguments (dict)\n",
    "\n",
    "Key Rules:\n",
    "Positional arguments must come before keyword arguments\n",
    "\n",
    "In function definition: positional → *args → **kwargs\n",
    "\n",
    "Use descriptive parameter names\n",
    "\n",
    "Avoid mutable default parameters\n",
    "\n",
    "Use * and ** for unpacking\n",
    "\n",
    "When to Use:\n",
    "*args: When number of arguments is unknown\n",
    "\n",
    "****kwargs**: When configuration options vary\n",
    "\n",
    "Default parameters: For optional settings\n",
    "\n",
    "Keyword arguments: For clarity and flexibility"
   ]
  }
 ],
 "metadata": {
  "kernelspec": {
   "display_name": "Python 3",
   "language": "python",
   "name": "python3"
  },
  "language_info": {
   "name": "python",
   "version": "3.13.7"
  }
 },
 "nbformat": 4,
 "nbformat_minor": 5
}
