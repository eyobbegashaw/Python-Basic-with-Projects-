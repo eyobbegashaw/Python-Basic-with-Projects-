{
 "cells": [
  {
   "cell_type": "markdown",
   "id": "f57b1b1d",
   "metadata": {},
   "source": [
    "<h4 style=\"color:green\">Python Function Return Values</h4>"
   ]
  },
  {
   "cell_type": "markdown",
   "id": "f0b4d69a",
   "metadata": {},
   "source": [
    "📝 What are Return Values?\n",
    "\n",
    "Return values are the results that functions send back to the code that called them. The return statement ends function execution and sends a value back."
   ]
  },
  {
   "cell_type": "code",
   "execution_count": null,
   "id": "22965de0",
   "metadata": {},
   "outputs": [],
   "source": [
    "def function_name():\n",
    "    # code\n",
    "    return value  # Sends value back to caller"
   ]
  },
  {
   "cell_type": "markdown",
   "id": "02124c71",
   "metadata": {},
   "source": [
    "🎯 Basic Return Statements\n",
    "\n",
    "Simple Return"
   ]
  },
  {
   "cell_type": "code",
   "execution_count": null,
   "id": "42943222",
   "metadata": {},
   "outputs": [],
   "source": [
    "def add_numbers(a, b):\n",
    "    \"\"\"Add two numbers and return result\"\"\"\n",
    "    result = a + b\n",
    "    return result\n",
    "\n",
    "# Capture return value\n",
    "sum_result = add_numbers(5, 3)\n",
    "print(f\"5 + 3 = {sum_result}\")  # 5 + 3 = 8"
   ]
  },
  {
   "cell_type": "markdown",
   "id": "3f0ce126",
   "metadata": {},
   "source": [
    "Direct Return"
   ]
  },
  {
   "cell_type": "code",
   "execution_count": null,
   "id": "26b25c7e",
   "metadata": {},
   "outputs": [],
   "source": [
    "def multiply(a, b):\n",
    "    \"\"\"Return result directly without variable\"\"\"\n",
    "    return a * b\n",
    "\n",
    "product = multiply(4, 5)\n",
    "print(f\"4 × 5 = {product}\")  # 4 × 5 = 20"
   ]
  },
  {
   "cell_type": "markdown",
   "id": "b48fa4f9",
   "metadata": {},
   "source": [
    "Return without Value"
   ]
  },
  {
   "cell_type": "code",
   "execution_count": null,
   "id": "f6b9c7f5",
   "metadata": {},
   "outputs": [],
   "source": [
    "def print_greeting(name):\n",
    "    \"\"\"Function that doesn't return anything\"\"\"\n",
    "    print(f\"Hello, {name}!\")\n",
    "    \n",
    "result = print_greeting(\"Alice\")\n",
    "print(f\"Return value: {result}\")  # Return value: None\n",
    "\n",
    "# Output:\n",
    "# Hello, Alice!\n",
    "# Return value: None"
   ]
  },
  {
   "cell_type": "markdown",
   "id": "b500b935",
   "metadata": {},
   "source": [
    "🔄 Multiple Return Values\n",
    "\n",
    "Returning Multiple Values as Tuple"
   ]
  },
  {
   "cell_type": "code",
   "execution_count": null,
   "id": "1548109b",
   "metadata": {},
   "outputs": [],
   "source": [
    "def calculate_stats(numbers):\n",
    "    \"\"\"Calculate multiple statistics\"\"\"\n",
    "    total = sum(numbers)\n",
    "    count = len(numbers)\n",
    "    average = total / count if count > 0 else 0\n",
    "    maximum = max(numbers) if numbers else 0\n",
    "    minimum = min(numbers) if numbers else 0\n",
    "    \n",
    "    return total, count, average, maximum, minimum\n",
    "\n",
    "# Unpack returned tuple\n",
    "scores = [85, 92, 78, 90, 88]\n",
    "total, count, avg, max_val, min_val = calculate_stats(scores)\n",
    "\n",
    "print(f\"Total: {total}\")      # Total: 433\n",
    "print(f\"Count: {count}\")      # Count: 5\n",
    "print(f\"Average: {avg:.1f}\")  # Average: 86.6\n",
    "print(f\"Max: {max_val}\")      # Max: 92\n",
    "print(f\"Min: {min_val}\")      # Min: 78"
   ]
  },
  {
   "cell_type": "markdown",
   "id": "2ec7c752",
   "metadata": {},
   "source": [
    "Returning List"
   ]
  },
  {
   "cell_type": "code",
   "execution_count": null,
   "id": "030cf341",
   "metadata": {},
   "outputs": [],
   "source": [
    "def get_even_numbers(limit):\n",
    "    \"\"\"Return list of even numbers\"\"\"\n",
    "    evens = []\n",
    "    for i in range(2, limit + 1, 2):\n",
    "        evens.append(i)\n",
    "    return evens\n",
    "\n",
    "even_numbers = get_even_numbers(10)\n",
    "print(f\"Even numbers: {even_numbers}\")  # [2, 4, 6, 8, 10]"
   ]
  },
  {
   "cell_type": "markdown",
   "id": "06308a59",
   "metadata": {},
   "source": [
    "Returning Dictionary"
   ]
  },
  {
   "cell_type": "code",
   "execution_count": null,
   "id": "e8a22693",
   "metadata": {},
   "outputs": [],
   "source": [
    "def create_student_record(name, age, grade):\n",
    "    \"\"\"Return student record as dictionary\"\"\"\n",
    "    return {\n",
    "        \"name\": name,\n",
    "        \"age\": age,\n",
    "        \"grade\": grade,\n",
    "        \"is_adult\": age >= 18\n",
    "    }\n",
    "\n",
    "student = create_student_record(\"Alice\", 20, \"A\")\n",
    "print(f\"Student record: {student}\")\n",
    "# {'name': 'Alice', 'age': 20, 'grade': 'A', 'is_adult': True}"
   ]
  },
  {
   "cell_type": "markdown",
   "id": "45eacc22",
   "metadata": {},
   "source": [
    "💡 Conditional Return Statements\n",
    "\n",
    "Early Return"
   ]
  },
  {
   "cell_type": "code",
   "execution_count": null,
   "id": "4ffe854e",
   "metadata": {},
   "outputs": [],
   "source": [
    "def check_temperature(temp):\n",
    "    \"\"\"Return early based on condition\"\"\"\n",
    "    if temp > 35:\n",
    "        return \"Too hot! 🥵\"\n",
    "    if temp > 25:\n",
    "        return \"Warm weather ☀️\"\n",
    "    if temp > 15:\n",
    "        return \"Pleasant weather 😊\"\n",
    "    if temp > 5:\n",
    "        return \"Cool weather 🍂\"\n",
    "    \n",
    "    return \"Cold weather! ❄️\"\n",
    "\n",
    "print(check_temperature(30))  # Warm weather ☀️\n",
    "print(check_temperature(10))  # Cool weather 🍂"
   ]
  },
  {
   "cell_type": "markdown",
   "id": "2d0924d3",
   "metadata": {},
   "source": [
    "Return in Loops"
   ]
  },
  {
   "cell_type": "code",
   "execution_count": null,
   "id": "255ba0c5",
   "metadata": {},
   "outputs": [],
   "source": [
    "def find_first_even(numbers):\n",
    "    \"\"\"Return first even number found\"\"\"\n",
    "    for num in numbers:\n",
    "        if num % 2 == 0:\n",
    "            return f\"First even number: {num}\"\n",
    "    return \"No even numbers found\"\n",
    "\n",
    "numbers1 = [1, 3, 5, 8, 9]\n",
    "numbers2 = [1, 3, 5, 7, 9]\n",
    "\n",
    "print(find_first_even(numbers1))  # First even number: 8\n",
    "print(find_first_even(numbers2))  # No even numbers found"
   ]
  },
  {
   "cell_type": "markdown",
   "id": "6399b62a",
   "metadata": {},
   "source": [
    "🎪 Advanced Return Techniques\n",
    "\n",
    "Returning Functions (Closures)"
   ]
  },
  {
   "cell_type": "code",
   "execution_count": null,
   "id": "2aecb7a7",
   "metadata": {},
   "outputs": [],
   "source": [
    "def create_multiplier(factor):\n",
    "    \"\"\"Return a function that multiplies by factor\"\"\"\n",
    "    def multiplier(x):\n",
    "        return x * factor\n",
    "    return multiplier\n",
    "\n",
    "# Create specialized functions\n",
    "double = create_multiplier(2)\n",
    "triple = create_multiplier(3)\n",
    "\n",
    "print(f\"Double 5: {double(5)}\")   # 10\n",
    "print(f\"Triple 5: {triple(5)}\")   # 15\n",
    "print(f\"Double 10: {double(10)}\") # 20"
   ]
  },
  {
   "cell_type": "markdown",
   "id": "afd5265e",
   "metadata": {},
   "source": [
    "Returning Lambda Functions"
   ]
  },
  {
   "cell_type": "code",
   "execution_count": null,
   "id": "62e593a3",
   "metadata": {},
   "outputs": [],
   "source": [
    "def create_math_operation(operation):\n",
    "    \"\"\"Return lambda functions for math operations\"\"\"\n",
    "    if operation == \"add\":\n",
    "        return lambda x, y: x + y\n",
    "    elif operation == \"subtract\":\n",
    "        return lambda x, y: x - y\n",
    "    elif operation == \"multiply\":\n",
    "        return lambda x, y: x * y\n",
    "    else:\n",
    "        return lambda x, y: x / y if y != 0 else \"Error\"\n",
    "\n",
    "# Use returned lambda functions\n",
    "adder = create_math_operation(\"add\")\n",
    "multiplier = create_math_operation(\"multiply\")\n",
    "\n",
    "print(f\"5 + 3 = {adder(5, 3)}\")        # 8\n",
    "print(f\"5 × 3 = {multiplier(5, 3)}\")   # 15"
   ]
  },
  {
   "cell_type": "markdown",
   "id": "d90c412a",
   "metadata": {},
   "source": [
    "📊 Real-world Return Examples\n",
    "\n",
    "1,Student Grade Calculator"
   ]
  },
  {
   "cell_type": "code",
   "execution_count": null,
   "id": "85b0617e",
   "metadata": {},
   "outputs": [],
   "source": [
    "def calculate_student_grade(scores):\n",
    "    \"\"\"Calculate student grade with detailed analysis\"\"\"\n",
    "    if not scores:\n",
    "        return {\"error\": \"No scores provided\"}\n",
    "    \n",
    "    total = sum(scores)\n",
    "    average = total / len(scores)\n",
    "    \n",
    "    # Determine grade\n",
    "    if average >= 90:\n",
    "        grade = \"A\"\n",
    "    elif average >= 80:\n",
    "        grade = \"B\"\n",
    "    elif average >= 70:\n",
    "        grade = \"C\"\n",
    "    elif average >= 60:\n",
    "        grade = \"D\"\n",
    "    else:\n",
    "        grade = \"F\"\n",
    "    \n",
    "    # Performance analysis\n",
    "    if average >= 80:\n",
    "        performance = \"Excellent\"\n",
    "    elif average >= 70:\n",
    "        performance = \"Good\"\n",
    "    elif average >= 60:\n",
    "        performance = \"Average\"\n",
    "    else:\n",
    "        performance = \"Needs Improvement\"\n",
    "    \n",
    "    return {\n",
    "        \"total_score\": total,\n",
    "        \"average_score\": average,\n",
    "        \"grade\": grade,\n",
    "        \"performance\": performance,\n",
    "        \"highest_score\": max(scores),\n",
    "        \"lowest_score\": min(scores),\n",
    "        \"subjects_count\": len(scores)\n",
    "    }\n",
    "\n",
    "# Calculate grades\n",
    "student_scores = [85, 92, 78, 88, 90]\n",
    "grade_report = calculate_student_grade(student_scores)\n",
    "\n",
    "print(\"Grade Report:\")\n",
    "for key, value in grade_report.items():\n",
    "    if isinstance(value, float):\n",
    "        print(f\"{key.replace('_', ' ').title()}: {value:.1f}\")\n",
    "    else:\n",
    "        print(f\"{key.replace('_', ' ').title()}: {value}\")"
   ]
  },
  {
   "cell_type": "markdown",
   "id": "271a9e13",
   "metadata": {},
   "source": [
    "2. Password Strength Analyzer"
   ]
  },
  {
   "cell_type": "code",
   "execution_count": null,
   "id": "b7d457eb",
   "metadata": {},
   "outputs": [],
   "source": [
    "def analyze_password_strength(password):\n",
    "    \"\"\"Analyze password strength and return detailed report\"\"\"\n",
    "    if not password:\n",
    "        return {\"strength\": \"Very Weak\", \"score\": 0, \"issues\": [\"Password is empty\"]}\n",
    "    \n",
    "    score = 0\n",
    "    issues = []\n",
    "    strengths = []\n",
    "    \n",
    "    # Length check\n",
    "    if len(password) >= 12:\n",
    "        score += 3\n",
    "        strengths.append(\"Good length\")\n",
    "    elif len(password) >= 8:\n",
    "        score += 2\n",
    "        strengths.append(\"Acceptable length\")\n",
    "    else:\n",
    "        score += 1\n",
    "        issues.append(\"Password too short (min 8 characters)\")\n",
    "    \n",
    "    # Complexity checks\n",
    "    has_upper = any(c.isupper() for c in password)\n",
    "    has_lower = any(c.islower() for c in password)\n",
    "    has_digit = any(c.isdigit() for c in password)\n",
    "    has_special = any(not c.isalnum() for c in password)\n",
    "    \n",
    "    if has_upper:\n",
    "        score += 1\n",
    "        strengths.append(\"Contains uppercase letters\")\n",
    "    else:\n",
    "        issues.append(\"Add uppercase letters\")\n",
    "    \n",
    "    if has_lower:\n",
    "        score += 1\n",
    "        strengths.append(\"Contains lowercase letters\")\n",
    "    else:\n",
    "        issues.append(\"Add lowercase letters\")\n",
    "    \n",
    "    if has_digit:\n",
    "        score += 1\n",
    "        strengths.append(\"Contains numbers\")\n",
    "    else:\n",
    "        issues.append(\"Add numbers\")\n",
    "    \n",
    "    if has_special:\n",
    "        score += 2\n",
    "        strengths.append(\"Contains special characters\")\n",
    "    else:\n",
    "        issues.append(\"Add special characters (!@#$ etc.)\")\n",
    "    \n",
    "    # Determine strength level\n",
    "    if score >= 8:\n",
    "        strength = \"Very Strong\"\n",
    "    elif score >= 6:\n",
    "        strength = \"Strong\"\n",
    "    elif score >= 4:\n",
    "        strength = \"Medium\"\n",
    "    elif score >= 2:\n",
    "        strength = \"Weak\"\n",
    "    else:\n",
    "        strength = \"Very Weak\"\n",
    "    \n",
    "    return {\n",
    "        \"strength\": strength,\n",
    "        \"score\": score,\n",
    "        \"max_score\": 8,\n",
    "        \"length\": len(password),\n",
    "        \"has_upper\": has_upper,\n",
    "        \"has_lower\": has_lower,\n",
    "        \"has_digit\": has_digit,\n",
    "        \"has_special\": has_special,\n",
    "        \"strengths\": strengths,\n",
    "        \"issues\": issues\n",
    "    }\n",
    "\n",
    "# Analyze passwords\n",
    "passwords = [\"weak\", \"Better123\", \"Strong@Password123!\"]\n",
    "\n",
    "for pwd in passwords:\n",
    "    analysis = analyze_password_strength(pwd)\n",
    "    print(f\"\\nPassword: {pwd}\")\n",
    "    print(f\"Strength: {analysis['strength']} (Score: {analysis['score']}/{analysis['max_score']})\")\n",
    "    \n",
    "    if analysis['strengths']:\n",
    "        print(\"Strengths: \" + \", \".join(analysis['strengths']))\n",
    "    \n",
    "    if analysis['issues']:\n",
    "        print(\"Issues: \" + \", \".join(analysis['issues']))"
   ]
  },
  {
   "cell_type": "markdown",
   "id": "a63c2d29",
   "metadata": {},
   "source": [
    "🔧 Error Handling with Return Values\n",
    "\n",
    "Returning Error States"
   ]
  },
  {
   "cell_type": "code",
   "execution_count": null,
   "id": "993475a3",
   "metadata": {},
   "outputs": [],
   "source": [
    "def safe_divide(a, b):\n",
    "    \"\"\"Safely divide two numbers with error handling\"\"\"\n",
    "    if b == 0:\n",
    "        return {\"success\": False, \"error\": \"Division by zero\", \"result\": None}\n",
    "    \n",
    "    result = a / b\n",
    "    return {\"success\": True, \"error\": None, \"result\": result}\n",
    "\n",
    "def process_calculation(a, b, operation):\n",
    "    \"\"\"Process mathematical operation with error handling\"\"\"\n",
    "    if operation == \"divide\":\n",
    "        division_result = safe_divide(a, b)\n",
    "        if not division_result[\"success\"]:\n",
    "            return division_result  # Return error early\n",
    "        return {\"success\": True, \"result\": division_result[\"result\"]}\n",
    "    \n",
    "    elif operation == \"add\":\n",
    "        return {\"success\": True, \"result\": a + b}\n",
    "    \n",
    "    else:\n",
    "        return {\"success\": False, \"error\": \"Unknown operation\", \"result\": None}\n",
    "\n",
    "# Test error handling\n",
    "result1 = process_calculation(10, 2, \"divide\")\n",
    "result2 = process_calculation(10, 0, \"divide\")\n",
    "result3 = process_calculation(5, 3, \"add\")\n",
    "\n",
    "print(\"Result 1:\", result1)  # {'success': True, 'result': 5.0}\n",
    "print(\"Result 2:\", result2)  # {'success': False, 'error': 'Division by zero', 'result': None}\n",
    "print(\"Result 3:\", result3)  # {'success': True, 'result': 8}"
   ]
  },
  {
   "cell_type": "markdown",
   "id": "8c29a4bb",
   "metadata": {},
   "source": [
    "📚 Summary\n",
    "\n",
    "Return Value Types:\n",
    "\n",
    "Single value: return value\n",
    "\n",
    "Multiple values: return val1, val2, val3 (returns tuple)\n",
    "\n",
    "Collections: return list, return dict, return set\n",
    "\n",
    "None: When no return statement or return without value\n",
    "\n",
    "Functions: Return other functions (closures)\n",
    "\n",
    "Key Concepts:\n",
    "return immediately exits the function\n",
    "\n",
    "Functions without return return None\n",
    "\n",
    "Multiple values are returned as tuples\n",
    "\n",
    "Return values can be any data type\n",
    "\n",
    "Use return for both results and error states\n",
    "\n",
    "Best Practices:\n",
    "Return meaningful values\n",
    "\n",
    "Use consistent return types\n",
    "\n",
    "Consider returning dictionaries for complex data\n",
    "\n",
    "Use early returns to simplify logic\n",
    "\n",
    "Document return values in docstrings"
   ]
  }
 ],
 "metadata": {
  "kernelspec": {
   "display_name": "base",
   "language": "python",
   "name": "python3"
  },
  "language_info": {
   "codemirror_mode": {
    "name": "ipython",
    "version": 3
   },
   "file_extension": ".py",
   "mimetype": "text/x-python",
   "name": "python",
   "nbconvert_exporter": "python",
   "pygments_lexer": "ipython3",
   "version": "3.12.7"
  }
 },
 "nbformat": 4,
 "nbformat_minor": 5
}
