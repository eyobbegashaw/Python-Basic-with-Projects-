{
 "cells": [
  {
   "cell_type": "markdown",
   "id": "ba7b8692",
   "metadata": {},
   "source": [
    "<h4 style=\"color:green\">Python Function Basics</h4>"
   ]
  },
  {
   "cell_type": "markdown",
   "id": "1c33c1d8",
   "metadata": {},
   "source": [
    "📝 What are Functions?\n",
    "\n",
    "Functions are reusable blocks of code that perform a specific task. They help organize code, avoid repetition, and make programs easier to understand."
   ]
  },
  {
   "cell_type": "code",
   "execution_count": null,
   "id": "209685c9",
   "metadata": {},
   "outputs": [],
   "source": [
    "# Basic function structure\n",
    "def function_name(parameters):\n",
    "    \"\"\"docstring - describes what the function does\"\"\"\n",
    "    # code block\n",
    "    return value"
   ]
  },
  {
   "cell_type": "markdown",
   "id": "6ce5bd5b",
   "metadata": {},
   "source": [
    "🎯 Defining and Calling Functions\n",
    "Simple Function without Parameters"
   ]
  },
  {
   "cell_type": "code",
   "execution_count": null,
   "id": "36a1f5d1",
   "metadata": {},
   "outputs": [],
   "source": [
    "# Define the function\n",
    "def greet():\n",
    "    \"\"\"This function greets the user\"\"\"\n",
    "    print(\"Hello! Welcome to Python programming!\")\n",
    "\n",
    "# Call the function\n",
    "greet()\n",
    "greet()  # Can call multiple times\n",
    "\n",
    "# Output:\n",
    "# Hello! Welcome to Python programming!\n",
    "# Hello! Welcome to Python programming!"
   ]
  },
  {
   "cell_type": "markdown",
   "id": "25d37f0d",
   "metadata": {},
   "source": [
    "Function with Parameters"
   ]
  },
  {
   "cell_type": "code",
   "execution_count": null,
   "id": "c317766c",
   "metadata": {},
   "outputs": [],
   "source": [
    "# Function with parameters\n",
    "def greet_person(name):\n",
    "    \"\"\"Greet a specific person\"\"\"\n",
    "    print(f\"Hello, {name}! Nice to meet you!\")\n",
    "\n",
    "# Call with argument\n",
    "greet_person(\"Alice\")\n",
    "greet_person(\"Bob\")\n",
    "\n",
    "# Output:\n",
    "# Hello, Alice! Nice to meet you!\n",
    "# Hello, Bob! Nice to meet you!"
   ]
  },
  {
   "cell_type": "markdown",
   "id": "2539a041",
   "metadata": {},
   "source": [
    "Function with Multiple Parameters"
   ]
  },
  {
   "cell_type": "code",
   "execution_count": null,
   "id": "fb1c4021",
   "metadata": {},
   "outputs": [],
   "source": [
    "# Multiple parameters\n",
    "def introduce(name, age, city):\n",
    "    \"\"\"Introduce a person with details\"\"\"\n",
    "    print(f\"Meet {name}, {age} years old, from {city}\")\n",
    "\n",
    "# Call with multiple arguments\n",
    "introduce(\"Alice\", 25, \"New York\")\n",
    "introduce(\"Bob\", 30, \"London\")\n",
    "\n",
    "# Output:\n",
    "# Meet Alice, 25 years old, from New York\n",
    "# Meet Bob, 30 years old, from London"
   ]
  },
  {
   "cell_type": "markdown",
   "id": "69920ab6",
   "metadata": {},
   "source": [
    "🔄 Return Statement\n",
    "\n",
    "Function with Return Value"
   ]
  },
  {
   "cell_type": "code",
   "execution_count": null,
   "id": "4cac649a",
   "metadata": {},
   "outputs": [],
   "source": [
    "# Function that returns a value\n",
    "def add_numbers(a, b):\n",
    "    \"\"\"Add two numbers and return the result\"\"\"\n",
    "    result = a + b\n",
    "    return result\n",
    "\n",
    "# Store returned value\n",
    "sum_result = add_numbers(5, 3)\n",
    "print(f\"5 + 3 = {sum_result}\")  # 5 + 3 = 8\n",
    "\n",
    "# Use returned value directly\n",
    "print(f\"10 + 15 = {add_numbers(10, 15)}\")  # 10 + 15 = 25"
   ]
  },
  {
   "cell_type": "markdown",
   "id": "3591f8cb",
   "metadata": {},
   "source": [
    "Multiple Return Values"
   ]
  },
  {
   "cell_type": "code",
   "execution_count": null,
   "id": "04378061",
   "metadata": {},
   "outputs": [],
   "source": [
    "# Function returning multiple values\n",
    "def calculate_operations(x, y):\n",
    "    \"\"\"Perform multiple operations and return results\"\"\"\n",
    "    addition = x + y\n",
    "    subtraction = x - y\n",
    "    multiplication = x * y\n",
    "    division = x / y if y != 0 else \"Undefined\"\n",
    "    \n",
    "    return addition, subtraction, multiplication, division\n",
    "\n",
    "# Unpack returned values\n",
    "add, sub, mul, div = calculate_operations(10, 5)\n",
    "print(f\"Addition: {add}\")        # 15\n",
    "print(f\"Subtraction: {sub}\")     # 5\n",
    "print(f\"Multiplication: {mul}\")  # 50\n",
    "print(f\"Division: {div}\")        # 2.0"
   ]
  },
  {
   "cell_type": "markdown",
   "id": "22b336ed",
   "metadata": {},
   "source": [
    "💡 Practical Function Examples\n",
    "\n",
    "1. Calculator Functions"
   ]
  },
  {
   "cell_type": "code",
   "execution_count": null,
   "id": "2ff1b1a3",
   "metadata": {},
   "outputs": [],
   "source": [
    "# Math operations as functions\n",
    "def add(a, b):\n",
    "    return a + b\n",
    "\n",
    "def subtract(a, b):\n",
    "    return a - b\n",
    "\n",
    "def multiply(a, b):\n",
    "    return a * b\n",
    "\n",
    "def divide(a, b):\n",
    "    if b == 0:\n",
    "        return \"Error: Division by zero\"\n",
    "    return a / b\n",
    "\n",
    "# Using the functions\n",
    "print(f\"8 + 3 = {add(8, 3)}\")        # 11\n",
    "print(f\"8 - 3 = {subtract(8, 3)}\")   # 5\n",
    "print(f\"8 * 3 = {multiply(8, 3)}\")   # 24\n",
    "print(f\"8 / 3 = {divide(8, 3):.2f}\") # 2.67"
   ]
  },
  {
   "cell_type": "markdown",
   "id": "ee1d0cd0",
   "metadata": {},
   "source": [
    "2. String Processing Functions"
   ]
  },
  {
   "cell_type": "code",
   "execution_count": null,
   "id": "190d28a0",
   "metadata": {},
   "outputs": [],
   "source": [
    "# Text processing functions\n",
    "def create_email(username, domain):\n",
    "    \"\"\"Create email address from username and domain\"\"\"\n",
    "    return f\"{username}@{domain}\"\n",
    "\n",
    "def format_name(first, last):\n",
    "    \"\"\"Format full name with proper capitalization\"\"\"\n",
    "    return f\"{first.title()} {last.title()}\"\n",
    "\n",
    "def create_bio(name, age, profession):\n",
    "    \"\"\"Create a short biography\"\"\"\n",
    "    return f\"{name} is {age} years old and works as a {profession}.\"\n",
    "\n",
    "# Using the functions\n",
    "email = create_email(\"alice.smith\", \"gmail.com\")\n",
    "full_name = format_name(\"alice\", \"smith\")\n",
    "bio = create_bio(\"Alice Smith\", 28, \"software developer\")\n",
    "\n",
    "print(f\"Email: {email}\")        # alice.smith@gmail.com\n",
    "print(f\"Name: {full_name}\")     # Alice Smith\n",
    "print(f\"Bio: {bio}\")            # Alice Smith is 28 years old and works as a software developer."
   ]
  },
  {
   "cell_type": "markdown",
   "id": "55117658",
   "metadata": {},
   "source": [
    "3. Data Validation Functions"
   ]
  },
  {
   "cell_type": "code",
   "execution_count": null,
   "id": "8ebf456e",
   "metadata": {},
   "outputs": [],
   "source": [
    "# Validation functions\n",
    "def is_valid_age(age):\n",
    "    \"\"\"Check if age is valid (0-150)\"\"\"\n",
    "    return 0 <= age <= 150\n",
    "\n",
    "def is_valid_email(email):\n",
    "    \"\"\"Basic email validation\"\"\"\n",
    "    return \"@\" in email and \".\" in email\n",
    "\n",
    "def is_strong_password(password):\n",
    "    \"\"\"Check if password is strong\"\"\"\n",
    "    return len(password) >= 8 and any(c.isdigit() for c in password)\n",
    "\n",
    "# Using validation functions\n",
    "age = 25\n",
    "email = \"test@example.com\"\n",
    "password = \"Secure123\"\n",
    "\n",
    "print(f\"Valid age: {is_valid_age(age)}\")              # True\n",
    "print(f\"Valid email: {is_valid_email(email)}\")        # True\n",
    "print(f\"Strong password: {is_strong_password(password)}\")  # True"
   ]
  },
  {
   "cell_type": "markdown",
   "id": "6965e13d",
   "metadata": {},
   "source": [
    "🎪 Advanced Function Concepts\n",
    "\n",
    "Default Parameters"
   ]
  },
  {
   "cell_type": "code",
   "execution_count": null,
   "id": "edc32fc9",
   "metadata": {},
   "outputs": [],
   "source": [
    "# Functions with default parameter values\n",
    "def book_ticket(name, destination, class_type=\"economy\", meals=False):\n",
    "    \"\"\"Book a flight ticket with optional parameters\"\"\"\n",
    "    ticket_info = f\"Ticket for {name} to {destination}\"\n",
    "    ticket_info += f\" in {class_type} class\"\n",
    "    \n",
    "    if meals:\n",
    "        ticket_info += \" with meals included\"\n",
    "    else:\n",
    "        ticket_info += \" without meals\"\n",
    "    \n",
    "    return ticket_info\n",
    "\n",
    "# Using default parameters\n",
    "ticket1 = book_ticket(\"Alice\", \"Paris\")\n",
    "ticket2 = book_ticket(\"Bob\", \"Tokyo\", \"business\", True)\n",
    "ticket3 = book_ticket(\"Charlie\", \"London\", meals=True)\n",
    "\n",
    "print(ticket1)  # Ticket for Alice to Paris in economy class without meals\n",
    "print(ticket2)  # Ticket for Bob to Tokyo in business class with meals included\n",
    "print(ticket3)  # Ticket for Charlie to London in economy class with meals included"
   ]
  },
  {
   "cell_type": "markdown",
   "id": "e6a6f8d0",
   "metadata": {},
   "source": [
    "Keyword Arguments"
   ]
  },
  {
   "cell_type": "code",
   "execution_count": null,
   "id": "bd3e1d91",
   "metadata": {},
   "outputs": [],
   "source": [
    "# Using keyword arguments for clarity\n",
    "def create_student_profile(name, age, grade, school, city):\n",
    "    \"\"\"Create a student profile\"\"\"\n",
    "    return f\"\"\"\n",
    "    Student Profile:\n",
    "    Name: {name}\n",
    "    Age: {age}\n",
    "    Grade: {grade}\n",
    "    School: {school}\n",
    "    City: {city}\n",
    "    \"\"\"\n",
    "\n",
    "# Call with keyword arguments (order doesn't matter)\n",
    "profile = create_student_profile(\n",
    "    name=\"Alice Johnson\",\n",
    "    age=15,\n",
    "    grade=\"10th\",\n",
    "    school=\"High School\",\n",
    "    city=\"Boston\"\n",
    ")\n",
    "\n",
    "print(profile)"
   ]
  },
  {
   "cell_type": "markdown",
   "id": "0a638941",
   "metadata": {},
   "source": [
    "Variable-length Arguments (*args)"
   ]
  },
  {
   "cell_type": "code",
   "execution_count": null,
   "id": "9b87b05a",
   "metadata": {},
   "outputs": [],
   "source": [
    "# Functions that accept any number of arguments\n",
    "def calculate_average(*numbers):\n",
    "    \"\"\"Calculate average of any number of values\"\"\"\n",
    "    if not numbers:\n",
    "        return 0\n",
    "    return sum(numbers) / len(numbers)\n",
    "\n",
    "def create_sentence(*words):\n",
    "    \"\"\"Create a sentence from multiple words\"\"\"\n",
    "    return \" \".join(words) + \".\"\n",
    "\n",
    "# Using variable arguments\n",
    "avg1 = calculate_average(10, 20, 30)\n",
    "avg2 = calculate_average(5, 15, 25, 35, 45)\n",
    "sentence = create_sentence(\"Python\", \"is\", \"awesome\", \"for\", \"programming\")\n",
    "\n",
    "print(f\"Average 1: {avg1}\")      # 20.0\n",
    "print(f\"Average 2: {avg2}\")      # 25.0\n",
    "print(f\"Sentence: {sentence}\")   # Python is awesome for programming."
   ]
  },
  {
   "cell_type": "markdown",
   "id": "f330728c",
   "metadata": {},
   "source": [
    "📊 Function Documentation\n",
    "\n",
    "Docstrings"
   ]
  },
  {
   "cell_type": "code",
   "execution_count": null,
   "id": "75a1002c",
   "metadata": {},
   "outputs": [],
   "source": [
    "def calculate_bmi(weight, height):\n",
    "    \"\"\"\n",
    "    Calculate Body Mass Index (BMI)\n",
    "    \n",
    "    Parameters:\n",
    "    weight (float): Weight in kilograms\n",
    "    height (float): Height in meters\n",
    "    \n",
    "    Returns:\n",
    "    float: BMI value\n",
    "    str: BMI category\n",
    "    \"\"\"\n",
    "    bmi = weight / (height ** 2)\n",
    "    \n",
    "    if bmi < 18.5:\n",
    "        category = \"Underweight\"\n",
    "    elif bmi < 25:\n",
    "        category = \"Normal weight\"\n",
    "    elif bmi < 30:\n",
    "        category = \"Overweight\"\n",
    "    else:\n",
    "        category = \"Obese\"\n",
    "    \n",
    "    return bmi, category\n",
    "\n",
    "# Using the function\n",
    "bmi, category = calculate_bmi(70, 1.75)\n",
    "print(f\"BMI: {bmi:.1f} - {category}\")  # BMI: 22.9 - Normal weight\n",
    "\n",
    "# View documentation\n",
    "print(calculate_bmi.__doc__)"
   ]
  },
  {
   "cell_type": "markdown",
   "id": "3624bdad",
   "metadata": {},
   "source": [
    "🔧 Error Handling in Functions\n",
    "\n",
    "Safe Division Function"
   ]
  },
  {
   "cell_type": "code",
   "execution_count": null,
   "id": "4f14918e",
   "metadata": {},
   "outputs": [],
   "source": [
    "def safe_divide(numerator, denominator):\n",
    "    \"\"\"\n",
    "    Safely divide two numbers with error handling\n",
    "    \"\"\"\n",
    "    try:\n",
    "        result = numerator / denominator\n",
    "        return result\n",
    "    except ZeroDivisionError:\n",
    "        return \"Error: Cannot divide by zero\"\n",
    "    except TypeError:\n",
    "        return \"Error: Please provide numbers\"\n",
    "\n",
    "# Test the function\n",
    "print(safe_divide(10, 2))    # 5.0\n",
    "print(safe_divide(10, 0))    # Error: Cannot divide by zero\n",
    "print(safe_divide(10, \"a\"))  # Error: Please provide numbers"
   ]
  },
  {
   "cell_type": "markdown",
   "id": "ac35bd1f",
   "metadata": {},
   "source": [
    "📚 Summary\n",
    "\n",
    "\n",
    "def: Keyword to define a function\n",
    "\n",
    "Parameters: Variables in function definition\n",
    "\n",
    "Arguments: Values passed when calling function\n",
    "\n",
    "return: Sends back a value from function\n",
    "\n",
    "Docstrings: Documentation for functions\n",
    "\n",
    "Default parameters: Pre-set values for parameters\n",
    "\n",
    "*args: Accept any number of arguments\n",
    "\n",
    "Key Benefits:\n",
    "\n",
    "✅ Code Reusability\n",
    "\n",
    "✅ Better Organization\n",
    "\n",
    "✅ Easier Debugging\n",
    "\n",
    "✅ Modular Programming"
   ]
  }
 ],
 "metadata": {
  "kernelspec": {
   "display_name": "Python 3",
   "language": "python",
   "name": "python3"
  },
  "language_info": {
   "name": "python",
   "version": "3.13.7"
  }
 },
 "nbformat": 4,
 "nbformat_minor": 5
}
